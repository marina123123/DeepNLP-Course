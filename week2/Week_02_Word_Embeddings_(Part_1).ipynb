{
  "nbformat": 4,
  "nbformat_minor": 0,
  "metadata": {
    "colab": {
      "name": "Week 02 - Word Embeddings (Part 1).ipynb",
      "version": "0.3.2",
      "provenance": [],
      "collapsed_sections": [],
      "include_colab_link": true
    },
    "kernelspec": {
      "name": "python3",
      "display_name": "Python 3"
    }
  },
  "cells": [
    {
      "cell_type": "markdown",
      "metadata": {
        "id": "view-in-github",
        "colab_type": "text"
      },
      "source": [
        "<a href=\"https://colab.research.google.com/github/marina123123/DeepNLP-Course/blob/master/week2/Week_02_Word_Embeddings_(Part_1).ipynb\" target=\"_parent\"><img src=\"https://colab.research.google.com/assets/colab-badge.svg\" alt=\"Open In Colab\"/></a>"
      ]
    },
    {
      "metadata": {
        "id": "wWzU9hqUomdU",
        "colab_type": "code",
        "colab": {
          "base_uri": "https://localhost:8080/",
          "height": 260
        },
        "outputId": "80296b85-7696-4060-925b-9d8f2d1b7596"
      },
      "cell_type": "code",
      "source": [
        "!wget -O quora.zip -qq --no-check-certificate \"https://drive.google.com/uc?export=download&id=1ERtxpdWOgGQ3HOigqAMHTJjmOE_tWvoF\"\n",
        "!unzip quora.zip\n",
        "!pip install -q --upgrade nltk gensim bokeh pandas\n",
        "\n",
        "import nltk\n",
        "nltk.download('punkt')\n",
        "nltk.download('stopwords')"
      ],
      "execution_count": 1,
      "outputs": [
        {
          "output_type": "stream",
          "text": [
            "Archive:  quora.zip\n",
            "  inflating: train.csv               \n",
            "\u001b[K    100% |████████████████████████████████| 1.4MB 12.6MB/s \n",
            "\u001b[K    100% |████████████████████████████████| 24.2MB 1.4MB/s \n",
            "\u001b[K    100% |████████████████████████████████| 17.5MB 2.0MB/s \n",
            "\u001b[K    100% |████████████████████████████████| 10.1MB 3.2MB/s \n",
            "\u001b[?25h  Building wheel for nltk (setup.py) ... \u001b[?25ldone\n",
            "\u001b[?25h  Building wheel for bokeh (setup.py) ... \u001b[?25ldone\n",
            "\u001b[31mfastai 1.0.51 has requirement numpy>=1.15, but you'll have numpy 1.14.6 which is incompatible.\u001b[0m\n",
            "\u001b[?25h"
          ],
          "name": "stdout"
        },
        {
          "output_type": "stream",
          "text": [
            "[nltk_data] Downloading package punkt to /root/nltk_data...\n",
            "[nltk_data]   Unzipping tokenizers/punkt.zip.\n",
            "[nltk_data] Downloading package stopwords to /root/nltk_data...\n",
            "[nltk_data]   Unzipping corpora/stopwords.zip.\n"
          ],
          "name": "stderr"
        },
        {
          "output_type": "execute_result",
          "data": {
            "text/plain": [
              "True"
            ]
          },
          "metadata": {
            "tags": []
          },
          "execution_count": 1
        }
      ]
    },
    {
      "metadata": {
        "id": "VXl16AOdtlDk",
        "colab_type": "text"
      },
      "cell_type": "markdown",
      "source": [
        "# Словные эмбеддинги"
      ]
    },
    {
      "metadata": {
        "id": "ErZ_TOu0vAOR",
        "colab_type": "text"
      },
      "cell_type": "markdown",
      "source": [
        "*NB. Ноутбук в большой степени основан на [первом задании из релевантного ШАДовского курса](https://github.com/yandexdataschool/nlp_course/tree/master/week1_embeddings).*\n",
        "\n",
        "Все видели такие картинки (я надеюсь):\n",
        "![embeddings relations](https://www.tensorflow.org/images/linear-relationships.png)\n",
        "*From [Vector Representations of Words, Tensorflow tutorial](https://www.tensorflow.org/tutorials/representation/word2vec)*\n",
        "\n",
        "Сегодня будем заниматься такими моделями.\n",
        "\n",
        "Начнём утро с визуализаций. Идём на сайт [http://rusvectores.org/ru/](http://rusvectores.org/ru/) и смотрим, что умеют обученные модели для русского.\n",
        "\n",
        "Обратите внимание на разделы *Похожие слова* и *Калькулятор*, а также на набор моделей, которые в них можно выбирать."
      ]
    },
    {
      "metadata": {
        "id": "FkxsGQqZNjxj",
        "colab_type": "text"
      },
      "cell_type": "markdown",
      "source": [
        "## Тренируем простую модель"
      ]
    },
    {
      "metadata": {
        "id": "PaOn69Bg1hH-",
        "colab_type": "text"
      },
      "cell_type": "markdown",
      "source": [
        "Просто так смотреть на чужие модели, конечно, неприкольно - поэтому будем постепенно приближаться к решению конкретной задачи: [Quora Question Pairs at kaggle](https://www.kaggle.com/c/quora-question-pairs):"
      ]
    },
    {
      "metadata": {
        "id": "K-X7I7nc1gyS",
        "colab_type": "code",
        "colab": {
          "base_uri": "https://localhost:8080/",
          "height": 1992
        },
        "outputId": "13a597ea-18b7-42fb-8c40-b0b4fbf5e0e1"
      },
      "cell_type": "code",
      "source": [
        "import pandas as pd\n",
        "\n",
        "quora_data = pd.read_csv('train.csv')\n",
        "\n",
        "quora_data"
      ],
      "execution_count": 2,
      "outputs": [
        {
          "output_type": "execute_result",
          "data": {
            "text/html": [
              "<div>\n",
              "<style scoped>\n",
              "    .dataframe tbody tr th:only-of-type {\n",
              "        vertical-align: middle;\n",
              "    }\n",
              "\n",
              "    .dataframe tbody tr th {\n",
              "        vertical-align: top;\n",
              "    }\n",
              "\n",
              "    .dataframe thead th {\n",
              "        text-align: right;\n",
              "    }\n",
              "</style>\n",
              "<table border=\"1\" class=\"dataframe\">\n",
              "  <thead>\n",
              "    <tr style=\"text-align: right;\">\n",
              "      <th></th>\n",
              "      <th>id</th>\n",
              "      <th>qid1</th>\n",
              "      <th>qid2</th>\n",
              "      <th>question1</th>\n",
              "      <th>question2</th>\n",
              "      <th>is_duplicate</th>\n",
              "    </tr>\n",
              "  </thead>\n",
              "  <tbody>\n",
              "    <tr>\n",
              "      <th>0</th>\n",
              "      <td>0</td>\n",
              "      <td>1</td>\n",
              "      <td>2</td>\n",
              "      <td>What is the step by step guide to invest in sh...</td>\n",
              "      <td>What is the step by step guide to invest in sh...</td>\n",
              "      <td>0</td>\n",
              "    </tr>\n",
              "    <tr>\n",
              "      <th>1</th>\n",
              "      <td>1</td>\n",
              "      <td>3</td>\n",
              "      <td>4</td>\n",
              "      <td>What is the story of Kohinoor (Koh-i-Noor) Dia...</td>\n",
              "      <td>What would happen if the Indian government sto...</td>\n",
              "      <td>0</td>\n",
              "    </tr>\n",
              "    <tr>\n",
              "      <th>2</th>\n",
              "      <td>2</td>\n",
              "      <td>5</td>\n",
              "      <td>6</td>\n",
              "      <td>How can I increase the speed of my internet co...</td>\n",
              "      <td>How can Internet speed be increased by hacking...</td>\n",
              "      <td>0</td>\n",
              "    </tr>\n",
              "    <tr>\n",
              "      <th>3</th>\n",
              "      <td>3</td>\n",
              "      <td>7</td>\n",
              "      <td>8</td>\n",
              "      <td>Why am I mentally very lonely? How can I solve...</td>\n",
              "      <td>Find the remainder when [math]23^{24}[/math] i...</td>\n",
              "      <td>0</td>\n",
              "    </tr>\n",
              "    <tr>\n",
              "      <th>4</th>\n",
              "      <td>4</td>\n",
              "      <td>9</td>\n",
              "      <td>10</td>\n",
              "      <td>Which one dissolve in water quikly sugar, salt...</td>\n",
              "      <td>Which fish would survive in salt water?</td>\n",
              "      <td>0</td>\n",
              "    </tr>\n",
              "    <tr>\n",
              "      <th>5</th>\n",
              "      <td>5</td>\n",
              "      <td>11</td>\n",
              "      <td>12</td>\n",
              "      <td>Astrology: I am a Capricorn Sun Cap moon and c...</td>\n",
              "      <td>I'm a triple Capricorn (Sun, Moon and ascendan...</td>\n",
              "      <td>1</td>\n",
              "    </tr>\n",
              "    <tr>\n",
              "      <th>6</th>\n",
              "      <td>6</td>\n",
              "      <td>13</td>\n",
              "      <td>14</td>\n",
              "      <td>Should I buy tiago?</td>\n",
              "      <td>What keeps childern active and far from phone ...</td>\n",
              "      <td>0</td>\n",
              "    </tr>\n",
              "    <tr>\n",
              "      <th>7</th>\n",
              "      <td>7</td>\n",
              "      <td>15</td>\n",
              "      <td>16</td>\n",
              "      <td>How can I be a good geologist?</td>\n",
              "      <td>What should I do to be a great geologist?</td>\n",
              "      <td>1</td>\n",
              "    </tr>\n",
              "    <tr>\n",
              "      <th>8</th>\n",
              "      <td>8</td>\n",
              "      <td>17</td>\n",
              "      <td>18</td>\n",
              "      <td>When do you use シ instead of し?</td>\n",
              "      <td>When do you use \"&amp;\" instead of \"and\"?</td>\n",
              "      <td>0</td>\n",
              "    </tr>\n",
              "    <tr>\n",
              "      <th>9</th>\n",
              "      <td>9</td>\n",
              "      <td>19</td>\n",
              "      <td>20</td>\n",
              "      <td>Motorola (company): Can I hack my Charter Moto...</td>\n",
              "      <td>How do I hack Motorola DCX3400 for free internet?</td>\n",
              "      <td>0</td>\n",
              "    </tr>\n",
              "    <tr>\n",
              "      <th>10</th>\n",
              "      <td>10</td>\n",
              "      <td>21</td>\n",
              "      <td>22</td>\n",
              "      <td>Method to find separation of slits using fresn...</td>\n",
              "      <td>What are some of the things technicians can te...</td>\n",
              "      <td>0</td>\n",
              "    </tr>\n",
              "    <tr>\n",
              "      <th>11</th>\n",
              "      <td>11</td>\n",
              "      <td>23</td>\n",
              "      <td>24</td>\n",
              "      <td>How do I read and find my YouTube comments?</td>\n",
              "      <td>How can I see all my Youtube comments?</td>\n",
              "      <td>1</td>\n",
              "    </tr>\n",
              "    <tr>\n",
              "      <th>12</th>\n",
              "      <td>12</td>\n",
              "      <td>25</td>\n",
              "      <td>26</td>\n",
              "      <td>What can make Physics easy to learn?</td>\n",
              "      <td>How can you make physics easy to learn?</td>\n",
              "      <td>1</td>\n",
              "    </tr>\n",
              "    <tr>\n",
              "      <th>13</th>\n",
              "      <td>13</td>\n",
              "      <td>27</td>\n",
              "      <td>28</td>\n",
              "      <td>What was your first sexual experience like?</td>\n",
              "      <td>What was your first sexual experience?</td>\n",
              "      <td>1</td>\n",
              "    </tr>\n",
              "    <tr>\n",
              "      <th>14</th>\n",
              "      <td>14</td>\n",
              "      <td>29</td>\n",
              "      <td>30</td>\n",
              "      <td>What are the laws to change your status from a...</td>\n",
              "      <td>What are the laws to change your status from a...</td>\n",
              "      <td>0</td>\n",
              "    </tr>\n",
              "    <tr>\n",
              "      <th>15</th>\n",
              "      <td>15</td>\n",
              "      <td>31</td>\n",
              "      <td>32</td>\n",
              "      <td>What would a Trump presidency mean for current...</td>\n",
              "      <td>How will a Trump presidency affect the student...</td>\n",
              "      <td>1</td>\n",
              "    </tr>\n",
              "    <tr>\n",
              "      <th>16</th>\n",
              "      <td>16</td>\n",
              "      <td>33</td>\n",
              "      <td>34</td>\n",
              "      <td>What does manipulation mean?</td>\n",
              "      <td>What does manipulation means?</td>\n",
              "      <td>1</td>\n",
              "    </tr>\n",
              "    <tr>\n",
              "      <th>17</th>\n",
              "      <td>17</td>\n",
              "      <td>35</td>\n",
              "      <td>36</td>\n",
              "      <td>Why do girls want to be friends with the guy t...</td>\n",
              "      <td>How do guys feel after rejecting a girl?</td>\n",
              "      <td>0</td>\n",
              "    </tr>\n",
              "    <tr>\n",
              "      <th>18</th>\n",
              "      <td>18</td>\n",
              "      <td>37</td>\n",
              "      <td>38</td>\n",
              "      <td>Why are so many Quora users posting questions ...</td>\n",
              "      <td>Why do people ask Quora questions which can be...</td>\n",
              "      <td>1</td>\n",
              "    </tr>\n",
              "    <tr>\n",
              "      <th>19</th>\n",
              "      <td>19</td>\n",
              "      <td>39</td>\n",
              "      <td>40</td>\n",
              "      <td>Which is the best digital marketing institutio...</td>\n",
              "      <td>Which is the best digital marketing institute ...</td>\n",
              "      <td>0</td>\n",
              "    </tr>\n",
              "    <tr>\n",
              "      <th>20</th>\n",
              "      <td>20</td>\n",
              "      <td>41</td>\n",
              "      <td>42</td>\n",
              "      <td>Why do rockets look white?</td>\n",
              "      <td>Why are rockets and boosters painted white?</td>\n",
              "      <td>1</td>\n",
              "    </tr>\n",
              "    <tr>\n",
              "      <th>21</th>\n",
              "      <td>21</td>\n",
              "      <td>43</td>\n",
              "      <td>44</td>\n",
              "      <td>What's causing someone to be jealous?</td>\n",
              "      <td>What can I do to avoid being jealous of someone?</td>\n",
              "      <td>0</td>\n",
              "    </tr>\n",
              "    <tr>\n",
              "      <th>22</th>\n",
              "      <td>22</td>\n",
              "      <td>45</td>\n",
              "      <td>46</td>\n",
              "      <td>What are the questions should not ask on Quora?</td>\n",
              "      <td>Which question should I ask on Quora?</td>\n",
              "      <td>0</td>\n",
              "    </tr>\n",
              "    <tr>\n",
              "      <th>23</th>\n",
              "      <td>23</td>\n",
              "      <td>47</td>\n",
              "      <td>48</td>\n",
              "      <td>How much is 30 kV in HP?</td>\n",
              "      <td>Where can I find a conversion chart for CC to ...</td>\n",
              "      <td>0</td>\n",
              "    </tr>\n",
              "    <tr>\n",
              "      <th>24</th>\n",
              "      <td>24</td>\n",
              "      <td>49</td>\n",
              "      <td>50</td>\n",
              "      <td>What does it mean that every time I look at th...</td>\n",
              "      <td>How many times a day do a clock’s hands overlap?</td>\n",
              "      <td>0</td>\n",
              "    </tr>\n",
              "    <tr>\n",
              "      <th>25</th>\n",
              "      <td>25</td>\n",
              "      <td>51</td>\n",
              "      <td>52</td>\n",
              "      <td>What are some tips on making it through the jo...</td>\n",
              "      <td>What are some tips on making it through the jo...</td>\n",
              "      <td>0</td>\n",
              "    </tr>\n",
              "    <tr>\n",
              "      <th>26</th>\n",
              "      <td>26</td>\n",
              "      <td>53</td>\n",
              "      <td>54</td>\n",
              "      <td>What is web application?</td>\n",
              "      <td>What is the web application framework?</td>\n",
              "      <td>0</td>\n",
              "    </tr>\n",
              "    <tr>\n",
              "      <th>27</th>\n",
              "      <td>27</td>\n",
              "      <td>55</td>\n",
              "      <td>56</td>\n",
              "      <td>Does society place too much importance on sports?</td>\n",
              "      <td>How do sports contribute to the society?</td>\n",
              "      <td>0</td>\n",
              "    </tr>\n",
              "    <tr>\n",
              "      <th>28</th>\n",
              "      <td>28</td>\n",
              "      <td>57</td>\n",
              "      <td>58</td>\n",
              "      <td>What is best way to make money online?</td>\n",
              "      <td>What is best way to ask for money online?</td>\n",
              "      <td>0</td>\n",
              "    </tr>\n",
              "    <tr>\n",
              "      <th>29</th>\n",
              "      <td>29</td>\n",
              "      <td>59</td>\n",
              "      <td>60</td>\n",
              "      <td>How should I prepare for CA final law?</td>\n",
              "      <td>How one should know that he/she completely pre...</td>\n",
              "      <td>1</td>\n",
              "    </tr>\n",
              "    <tr>\n",
              "      <th>...</th>\n",
              "      <td>...</td>\n",
              "      <td>...</td>\n",
              "      <td>...</td>\n",
              "      <td>...</td>\n",
              "      <td>...</td>\n",
              "      <td>...</td>\n",
              "    </tr>\n",
              "    <tr>\n",
              "      <th>404260</th>\n",
              "      <td>404260</td>\n",
              "      <td>182494</td>\n",
              "      <td>691</td>\n",
              "      <td>Which phone is best under 12000?</td>\n",
              "      <td>What is the best phone to buy below 15k?</td>\n",
              "      <td>0</td>\n",
              "    </tr>\n",
              "    <tr>\n",
              "      <th>404261</th>\n",
              "      <td>404261</td>\n",
              "      <td>281150</td>\n",
              "      <td>124172</td>\n",
              "      <td>Who is the overall most popular Game of Throne...</td>\n",
              "      <td>Who is the most popular character in the Game ...</td>\n",
              "      <td>1</td>\n",
              "    </tr>\n",
              "    <tr>\n",
              "      <th>404262</th>\n",
              "      <td>404262</td>\n",
              "      <td>537905</td>\n",
              "      <td>466328</td>\n",
              "      <td>How do you troubleshoot a Toshiba laptop?</td>\n",
              "      <td>How do I reset a Toshiba laptop?</td>\n",
              "      <td>0</td>\n",
              "    </tr>\n",
              "    <tr>\n",
              "      <th>404263</th>\n",
              "      <td>404263</td>\n",
              "      <td>375195</td>\n",
              "      <td>537906</td>\n",
              "      <td>How does the burning of fossil fuels contribut...</td>\n",
              "      <td>Why does CO2 contribute more to global warming...</td>\n",
              "      <td>0</td>\n",
              "    </tr>\n",
              "    <tr>\n",
              "      <th>404264</th>\n",
              "      <td>404264</td>\n",
              "      <td>537907</td>\n",
              "      <td>537908</td>\n",
              "      <td>Is it safe to store an external battery power ...</td>\n",
              "      <td>How do I make a safe and cheap power bank?</td>\n",
              "      <td>0</td>\n",
              "    </tr>\n",
              "    <tr>\n",
              "      <th>404265</th>\n",
              "      <td>404265</td>\n",
              "      <td>25994</td>\n",
              "      <td>16064</td>\n",
              "      <td>How can I gain weight on my body?</td>\n",
              "      <td>What should I eat to gain weight?</td>\n",
              "      <td>1</td>\n",
              "    </tr>\n",
              "    <tr>\n",
              "      <th>404266</th>\n",
              "      <td>404266</td>\n",
              "      <td>155813</td>\n",
              "      <td>146284</td>\n",
              "      <td>What is the green dot next to the phone icon o...</td>\n",
              "      <td>My boyfriend says he deleted his Facebook Mess...</td>\n",
              "      <td>0</td>\n",
              "    </tr>\n",
              "    <tr>\n",
              "      <th>404267</th>\n",
              "      <td>404267</td>\n",
              "      <td>20171</td>\n",
              "      <td>290649</td>\n",
              "      <td>What are the causes of the fall of the Roman E...</td>\n",
              "      <td>What were the most important causes and effect...</td>\n",
              "      <td>1</td>\n",
              "    </tr>\n",
              "    <tr>\n",
              "      <th>404268</th>\n",
              "      <td>404268</td>\n",
              "      <td>537909</td>\n",
              "      <td>537910</td>\n",
              "      <td>Why don't we still do great music like in the ...</td>\n",
              "      <td>Should I raise my young child on 80's music?</td>\n",
              "      <td>0</td>\n",
              "    </tr>\n",
              "    <tr>\n",
              "      <th>404269</th>\n",
              "      <td>404269</td>\n",
              "      <td>537911</td>\n",
              "      <td>349794</td>\n",
              "      <td>How do you diagnose antisocial personality dis...</td>\n",
              "      <td>What Does It Feel Like to have antisocial pers...</td>\n",
              "      <td>0</td>\n",
              "    </tr>\n",
              "    <tr>\n",
              "      <th>404270</th>\n",
              "      <td>404270</td>\n",
              "      <td>537912</td>\n",
              "      <td>35364</td>\n",
              "      <td>What is the difference between who and how?</td>\n",
              "      <td>What is the difference between \"&amp;\" and \"and\"?</td>\n",
              "      <td>0</td>\n",
              "    </tr>\n",
              "    <tr>\n",
              "      <th>404271</th>\n",
              "      <td>404271</td>\n",
              "      <td>537913</td>\n",
              "      <td>537914</td>\n",
              "      <td>Does Stalin have any grandchildren that are st...</td>\n",
              "      <td>What was Joseph Stalin's 5 year plan? How did ...</td>\n",
              "      <td>0</td>\n",
              "    </tr>\n",
              "    <tr>\n",
              "      <th>404272</th>\n",
              "      <td>404272</td>\n",
              "      <td>128018</td>\n",
              "      <td>14005</td>\n",
              "      <td>What are the best new car products or inventio...</td>\n",
              "      <td>What are some mind-blowing vehicles tools that...</td>\n",
              "      <td>1</td>\n",
              "    </tr>\n",
              "    <tr>\n",
              "      <th>404273</th>\n",
              "      <td>404273</td>\n",
              "      <td>537915</td>\n",
              "      <td>537916</td>\n",
              "      <td>What happens if you put milk in a coffee maker?</td>\n",
              "      <td>What would happen if I put milk instead of wat...</td>\n",
              "      <td>1</td>\n",
              "    </tr>\n",
              "    <tr>\n",
              "      <th>404274</th>\n",
              "      <td>404274</td>\n",
              "      <td>178643</td>\n",
              "      <td>87385</td>\n",
              "      <td>Will the next generation of parenting change o...</td>\n",
              "      <td>What kind of parents will the next generation ...</td>\n",
              "      <td>1</td>\n",
              "    </tr>\n",
              "    <tr>\n",
              "      <th>404275</th>\n",
              "      <td>404275</td>\n",
              "      <td>97922</td>\n",
              "      <td>537917</td>\n",
              "      <td>In accounting, why do we debit expenses and cr...</td>\n",
              "      <td>What is a utilities expense in accounting? How...</td>\n",
              "      <td>0</td>\n",
              "    </tr>\n",
              "    <tr>\n",
              "      <th>404276</th>\n",
              "      <td>404276</td>\n",
              "      <td>24305</td>\n",
              "      <td>308365</td>\n",
              "      <td>What is copilotsearch.com?</td>\n",
              "      <td>What is ContenVania.com?</td>\n",
              "      <td>0</td>\n",
              "    </tr>\n",
              "    <tr>\n",
              "      <th>404277</th>\n",
              "      <td>404277</td>\n",
              "      <td>355668</td>\n",
              "      <td>537918</td>\n",
              "      <td>What does analytics do?</td>\n",
              "      <td>What are analytical people like?</td>\n",
              "      <td>0</td>\n",
              "    </tr>\n",
              "    <tr>\n",
              "      <th>404278</th>\n",
              "      <td>404278</td>\n",
              "      <td>537919</td>\n",
              "      <td>169786</td>\n",
              "      <td>How did you prepare for AIIMS/NEET/AIPMT?</td>\n",
              "      <td>How did you prepare for the AIIMS UG entrance ...</td>\n",
              "      <td>0</td>\n",
              "    </tr>\n",
              "    <tr>\n",
              "      <th>404279</th>\n",
              "      <td>404279</td>\n",
              "      <td>537920</td>\n",
              "      <td>537921</td>\n",
              "      <td>What is the minimum time required to build a f...</td>\n",
              "      <td>What is a cheaper and quicker way to build an ...</td>\n",
              "      <td>0</td>\n",
              "    </tr>\n",
              "    <tr>\n",
              "      <th>404280</th>\n",
              "      <td>404280</td>\n",
              "      <td>537922</td>\n",
              "      <td>537923</td>\n",
              "      <td>What are some outfit ideas to wear to a frat p...</td>\n",
              "      <td>What are some outfit ideas wear to a frat them...</td>\n",
              "      <td>1</td>\n",
              "    </tr>\n",
              "    <tr>\n",
              "      <th>404281</th>\n",
              "      <td>404281</td>\n",
              "      <td>99131</td>\n",
              "      <td>81495</td>\n",
              "      <td>Why is Manaphy childish in Pokémon Ranger and ...</td>\n",
              "      <td>Why is Manaphy annoying in Pokemon ranger and ...</td>\n",
              "      <td>1</td>\n",
              "    </tr>\n",
              "    <tr>\n",
              "      <th>404282</th>\n",
              "      <td>404282</td>\n",
              "      <td>1931</td>\n",
              "      <td>16773</td>\n",
              "      <td>How does a long distance relationship work?</td>\n",
              "      <td>How are long distance relationships maintained?</td>\n",
              "      <td>1</td>\n",
              "    </tr>\n",
              "    <tr>\n",
              "      <th>404283</th>\n",
              "      <td>404283</td>\n",
              "      <td>537924</td>\n",
              "      <td>537925</td>\n",
              "      <td>What do you think of the removal of the MagSaf...</td>\n",
              "      <td>What will the CPU upgrade to the 2016 Apple Ma...</td>\n",
              "      <td>0</td>\n",
              "    </tr>\n",
              "    <tr>\n",
              "      <th>404284</th>\n",
              "      <td>404284</td>\n",
              "      <td>537926</td>\n",
              "      <td>537927</td>\n",
              "      <td>What does Jainism say about homosexuality?</td>\n",
              "      <td>What does Jainism say about Gays and Homosexua...</td>\n",
              "      <td>1</td>\n",
              "    </tr>\n",
              "    <tr>\n",
              "      <th>404285</th>\n",
              "      <td>404285</td>\n",
              "      <td>433578</td>\n",
              "      <td>379845</td>\n",
              "      <td>How many keywords are there in the Racket prog...</td>\n",
              "      <td>How many keywords are there in PERL Programmin...</td>\n",
              "      <td>0</td>\n",
              "    </tr>\n",
              "    <tr>\n",
              "      <th>404286</th>\n",
              "      <td>404286</td>\n",
              "      <td>18840</td>\n",
              "      <td>155606</td>\n",
              "      <td>Do you believe there is life after death?</td>\n",
              "      <td>Is it true that there is life after death?</td>\n",
              "      <td>1</td>\n",
              "    </tr>\n",
              "    <tr>\n",
              "      <th>404287</th>\n",
              "      <td>404287</td>\n",
              "      <td>537928</td>\n",
              "      <td>537929</td>\n",
              "      <td>What is one coin?</td>\n",
              "      <td>What's this coin?</td>\n",
              "      <td>0</td>\n",
              "    </tr>\n",
              "    <tr>\n",
              "      <th>404288</th>\n",
              "      <td>404288</td>\n",
              "      <td>537930</td>\n",
              "      <td>537931</td>\n",
              "      <td>What is the approx annual cost of living while...</td>\n",
              "      <td>I am having little hairfall problem but I want...</td>\n",
              "      <td>0</td>\n",
              "    </tr>\n",
              "    <tr>\n",
              "      <th>404289</th>\n",
              "      <td>404289</td>\n",
              "      <td>537932</td>\n",
              "      <td>537933</td>\n",
              "      <td>What is like to have sex with cousin?</td>\n",
              "      <td>What is it like to have sex with your cousin?</td>\n",
              "      <td>0</td>\n",
              "    </tr>\n",
              "  </tbody>\n",
              "</table>\n",
              "<p>404290 rows × 6 columns</p>\n",
              "</div>"
            ],
            "text/plain": [
              "            id    qid1    qid2  \\\n",
              "0            0       1       2   \n",
              "1            1       3       4   \n",
              "2            2       5       6   \n",
              "3            3       7       8   \n",
              "4            4       9      10   \n",
              "5            5      11      12   \n",
              "6            6      13      14   \n",
              "7            7      15      16   \n",
              "8            8      17      18   \n",
              "9            9      19      20   \n",
              "10          10      21      22   \n",
              "11          11      23      24   \n",
              "12          12      25      26   \n",
              "13          13      27      28   \n",
              "14          14      29      30   \n",
              "15          15      31      32   \n",
              "16          16      33      34   \n",
              "17          17      35      36   \n",
              "18          18      37      38   \n",
              "19          19      39      40   \n",
              "20          20      41      42   \n",
              "21          21      43      44   \n",
              "22          22      45      46   \n",
              "23          23      47      48   \n",
              "24          24      49      50   \n",
              "25          25      51      52   \n",
              "26          26      53      54   \n",
              "27          27      55      56   \n",
              "28          28      57      58   \n",
              "29          29      59      60   \n",
              "...        ...     ...     ...   \n",
              "404260  404260  182494     691   \n",
              "404261  404261  281150  124172   \n",
              "404262  404262  537905  466328   \n",
              "404263  404263  375195  537906   \n",
              "404264  404264  537907  537908   \n",
              "404265  404265   25994   16064   \n",
              "404266  404266  155813  146284   \n",
              "404267  404267   20171  290649   \n",
              "404268  404268  537909  537910   \n",
              "404269  404269  537911  349794   \n",
              "404270  404270  537912   35364   \n",
              "404271  404271  537913  537914   \n",
              "404272  404272  128018   14005   \n",
              "404273  404273  537915  537916   \n",
              "404274  404274  178643   87385   \n",
              "404275  404275   97922  537917   \n",
              "404276  404276   24305  308365   \n",
              "404277  404277  355668  537918   \n",
              "404278  404278  537919  169786   \n",
              "404279  404279  537920  537921   \n",
              "404280  404280  537922  537923   \n",
              "404281  404281   99131   81495   \n",
              "404282  404282    1931   16773   \n",
              "404283  404283  537924  537925   \n",
              "404284  404284  537926  537927   \n",
              "404285  404285  433578  379845   \n",
              "404286  404286   18840  155606   \n",
              "404287  404287  537928  537929   \n",
              "404288  404288  537930  537931   \n",
              "404289  404289  537932  537933   \n",
              "\n",
              "                                                question1  \\\n",
              "0       What is the step by step guide to invest in sh...   \n",
              "1       What is the story of Kohinoor (Koh-i-Noor) Dia...   \n",
              "2       How can I increase the speed of my internet co...   \n",
              "3       Why am I mentally very lonely? How can I solve...   \n",
              "4       Which one dissolve in water quikly sugar, salt...   \n",
              "5       Astrology: I am a Capricorn Sun Cap moon and c...   \n",
              "6                                     Should I buy tiago?   \n",
              "7                          How can I be a good geologist?   \n",
              "8                         When do you use シ instead of し?   \n",
              "9       Motorola (company): Can I hack my Charter Moto...   \n",
              "10      Method to find separation of slits using fresn...   \n",
              "11            How do I read and find my YouTube comments?   \n",
              "12                   What can make Physics easy to learn?   \n",
              "13            What was your first sexual experience like?   \n",
              "14      What are the laws to change your status from a...   \n",
              "15      What would a Trump presidency mean for current...   \n",
              "16                           What does manipulation mean?   \n",
              "17      Why do girls want to be friends with the guy t...   \n",
              "18      Why are so many Quora users posting questions ...   \n",
              "19      Which is the best digital marketing institutio...   \n",
              "20                             Why do rockets look white?   \n",
              "21                  What's causing someone to be jealous?   \n",
              "22        What are the questions should not ask on Quora?   \n",
              "23                               How much is 30 kV in HP?   \n",
              "24      What does it mean that every time I look at th...   \n",
              "25      What are some tips on making it through the jo...   \n",
              "26                               What is web application?   \n",
              "27      Does society place too much importance on sports?   \n",
              "28                 What is best way to make money online?   \n",
              "29                 How should I prepare for CA final law?   \n",
              "...                                                   ...   \n",
              "404260                   Which phone is best under 12000?   \n",
              "404261  Who is the overall most popular Game of Throne...   \n",
              "404262          How do you troubleshoot a Toshiba laptop?   \n",
              "404263  How does the burning of fossil fuels contribut...   \n",
              "404264  Is it safe to store an external battery power ...   \n",
              "404265                  How can I gain weight on my body?   \n",
              "404266  What is the green dot next to the phone icon o...   \n",
              "404267  What are the causes of the fall of the Roman E...   \n",
              "404268  Why don't we still do great music like in the ...   \n",
              "404269  How do you diagnose antisocial personality dis...   \n",
              "404270        What is the difference between who and how?   \n",
              "404271  Does Stalin have any grandchildren that are st...   \n",
              "404272  What are the best new car products or inventio...   \n",
              "404273    What happens if you put milk in a coffee maker?   \n",
              "404274  Will the next generation of parenting change o...   \n",
              "404275  In accounting, why do we debit expenses and cr...   \n",
              "404276                         What is copilotsearch.com?   \n",
              "404277                            What does analytics do?   \n",
              "404278          How did you prepare for AIIMS/NEET/AIPMT?   \n",
              "404279  What is the minimum time required to build a f...   \n",
              "404280  What are some outfit ideas to wear to a frat p...   \n",
              "404281  Why is Manaphy childish in Pokémon Ranger and ...   \n",
              "404282        How does a long distance relationship work?   \n",
              "404283  What do you think of the removal of the MagSaf...   \n",
              "404284         What does Jainism say about homosexuality?   \n",
              "404285  How many keywords are there in the Racket prog...   \n",
              "404286          Do you believe there is life after death?   \n",
              "404287                                  What is one coin?   \n",
              "404288  What is the approx annual cost of living while...   \n",
              "404289              What is like to have sex with cousin?   \n",
              "\n",
              "                                                question2  is_duplicate  \n",
              "0       What is the step by step guide to invest in sh...             0  \n",
              "1       What would happen if the Indian government sto...             0  \n",
              "2       How can Internet speed be increased by hacking...             0  \n",
              "3       Find the remainder when [math]23^{24}[/math] i...             0  \n",
              "4                 Which fish would survive in salt water?             0  \n",
              "5       I'm a triple Capricorn (Sun, Moon and ascendan...             1  \n",
              "6       What keeps childern active and far from phone ...             0  \n",
              "7               What should I do to be a great geologist?             1  \n",
              "8                   When do you use \"&\" instead of \"and\"?             0  \n",
              "9       How do I hack Motorola DCX3400 for free internet?             0  \n",
              "10      What are some of the things technicians can te...             0  \n",
              "11                 How can I see all my Youtube comments?             1  \n",
              "12                How can you make physics easy to learn?             1  \n",
              "13                 What was your first sexual experience?             1  \n",
              "14      What are the laws to change your status from a...             0  \n",
              "15      How will a Trump presidency affect the student...             1  \n",
              "16                          What does manipulation means?             1  \n",
              "17               How do guys feel after rejecting a girl?             0  \n",
              "18      Why do people ask Quora questions which can be...             1  \n",
              "19      Which is the best digital marketing institute ...             0  \n",
              "20            Why are rockets and boosters painted white?             1  \n",
              "21       What can I do to avoid being jealous of someone?             0  \n",
              "22                  Which question should I ask on Quora?             0  \n",
              "23      Where can I find a conversion chart for CC to ...             0  \n",
              "24       How many times a day do a clock’s hands overlap?             0  \n",
              "25      What are some tips on making it through the jo...             0  \n",
              "26                 What is the web application framework?             0  \n",
              "27               How do sports contribute to the society?             0  \n",
              "28              What is best way to ask for money online?             0  \n",
              "29      How one should know that he/she completely pre...             1  \n",
              "...                                                   ...           ...  \n",
              "404260           What is the best phone to buy below 15k?             0  \n",
              "404261  Who is the most popular character in the Game ...             1  \n",
              "404262                   How do I reset a Toshiba laptop?             0  \n",
              "404263  Why does CO2 contribute more to global warming...             0  \n",
              "404264         How do I make a safe and cheap power bank?             0  \n",
              "404265                  What should I eat to gain weight?             1  \n",
              "404266  My boyfriend says he deleted his Facebook Mess...             0  \n",
              "404267  What were the most important causes and effect...             1  \n",
              "404268       Should I raise my young child on 80's music?             0  \n",
              "404269  What Does It Feel Like to have antisocial pers...             0  \n",
              "404270      What is the difference between \"&\" and \"and\"?             0  \n",
              "404271  What was Joseph Stalin's 5 year plan? How did ...             0  \n",
              "404272  What are some mind-blowing vehicles tools that...             1  \n",
              "404273  What would happen if I put milk instead of wat...             1  \n",
              "404274  What kind of parents will the next generation ...             1  \n",
              "404275  What is a utilities expense in accounting? How...             0  \n",
              "404276                           What is ContenVania.com?             0  \n",
              "404277                   What are analytical people like?             0  \n",
              "404278  How did you prepare for the AIIMS UG entrance ...             0  \n",
              "404279  What is a cheaper and quicker way to build an ...             0  \n",
              "404280  What are some outfit ideas wear to a frat them...             1  \n",
              "404281  Why is Manaphy annoying in Pokemon ranger and ...             1  \n",
              "404282    How are long distance relationships maintained?             1  \n",
              "404283  What will the CPU upgrade to the 2016 Apple Ma...             0  \n",
              "404284  What does Jainism say about Gays and Homosexua...             1  \n",
              "404285  How many keywords are there in PERL Programmin...             0  \n",
              "404286         Is it true that there is life after death?             1  \n",
              "404287                                  What's this coin?             0  \n",
              "404288  I am having little hairfall problem but I want...             0  \n",
              "404289      What is it like to have sex with your cousin?             0  \n",
              "\n",
              "[404290 rows x 6 columns]"
            ]
          },
          "metadata": {
            "tags": []
          },
          "execution_count": 2
        }
      ]
    },
    {
      "metadata": {
        "id": "p13HdkzWKtKe",
        "colab_type": "text"
      },
      "cell_type": "markdown",
      "source": [
        "Поучим на этих текстах Word2vec из gensim. \n",
        "\n",
        "Для начала объединим все тексты."
      ]
    },
    {
      "metadata": {
        "id": "Mchv4fS_21OX",
        "colab_type": "code",
        "colab": {
          "base_uri": "https://localhost:8080/",
          "height": 191
        },
        "outputId": "0bcc838f-ac87-42bf-e298-94e82507f3b7"
      },
      "cell_type": "code",
      "source": [
        "import numpy as np\n",
        "\n",
        "quora_data.question1 = quora_data.question1.replace(np.nan, '', regex=True)\n",
        "quora_data.question2 = quora_data.question2.replace(np.nan, '', regex=True)\n",
        "\n",
        "texts = list(pd.concat([quora_data.question1, quora_data.question2]).unique())\n",
        "texts[:10]"
      ],
      "execution_count": 3,
      "outputs": [
        {
          "output_type": "execute_result",
          "data": {
            "text/plain": [
              "['What is the step by step guide to invest in share market in india?',\n",
              " 'What is the story of Kohinoor (Koh-i-Noor) Diamond?',\n",
              " 'How can I increase the speed of my internet connection while using a VPN?',\n",
              " 'Why am I mentally very lonely? How can I solve it?',\n",
              " 'Which one dissolve in water quikly sugar, salt, methane and carbon di oxide?',\n",
              " 'Astrology: I am a Capricorn Sun Cap moon and cap rising...what does that say about me?',\n",
              " 'Should I buy tiago?',\n",
              " 'How can I be a good geologist?',\n",
              " 'When do you use シ instead of し?',\n",
              " 'Motorola (company): Can I hack my Charter Motorolla DCX3400?']"
            ]
          },
          "metadata": {
            "tags": []
          },
          "execution_count": 3
        }
      ]
    },
    {
      "metadata": {
        "id": "-hZMFAmvK5b7",
        "colab_type": "text"
      },
      "cell_type": "markdown",
      "source": [
        "Для токенизации проще всего воспользоваться `nltk` (он быстрее `spacy`, но может быть хуже в отдельных случаях)."
      ]
    },
    {
      "metadata": {
        "id": "LTxolf8nLM-n",
        "colab_type": "code",
        "colab": {
          "base_uri": "https://localhost:8080/",
          "height": 278
        },
        "outputId": "62fbab66-179c-4cb6-957a-a558f9261a1a"
      },
      "cell_type": "code",
      "source": [
        "from nltk.tokenize import word_tokenize\n",
        "\n",
        "word_tokenize(texts[0])"
      ],
      "execution_count": 4,
      "outputs": [
        {
          "output_type": "execute_result",
          "data": {
            "text/plain": [
              "['What',\n",
              " 'is',\n",
              " 'the',\n",
              " 'step',\n",
              " 'by',\n",
              " 'step',\n",
              " 'guide',\n",
              " 'to',\n",
              " 'invest',\n",
              " 'in',\n",
              " 'share',\n",
              " 'market',\n",
              " 'in',\n",
              " 'india',\n",
              " '?']"
            ]
          },
          "metadata": {
            "tags": []
          },
          "execution_count": 4
        }
      ]
    },
    {
      "metadata": {
        "id": "fuJceE4JLRxK",
        "colab_type": "text"
      },
      "cell_type": "markdown",
      "source": [
        "**Задание** Приведите все тексты к нижнему регистру и токенизируйте их."
      ]
    },
    {
      "metadata": {
        "id": "a7XbnSdt4REg",
        "colab_type": "code",
        "colab": {}
      },
      "cell_type": "code",
      "source": [
        "tokenized_texts = [word_tokenize(t.lower()) for t in texts]\n",
        "\n",
        "assert all(isinstance(row, (list, tuple)) for row in tokenized_texts), \\\n",
        "    \"please convert each line into a list of tokens\"\n",
        "assert all(all(isinstance(tok, str) for tok in row) for row in tokenized_texts), \\\n",
        "    \"please convert each line into a list of tokens\"\n",
        "\n",
        "is_latin = lambda tok: all('a' <= x.lower() <= 'z' for x in tok)\n",
        "assert all(not is_latin(token) or token.islower() for tokens in tokenized_texts for token in tokens),\\\n",
        "    \"please lowercase each line\""
      ],
      "execution_count": 0,
      "outputs": []
    },
    {
      "metadata": {
        "id": "irl7RotC5C_B",
        "colab_type": "code",
        "colab": {
          "base_uri": "https://localhost:8080/",
          "height": 34
        },
        "outputId": "9d4b449a-73ac-4f49-86c3-b965664dd393"
      },
      "cell_type": "code",
      "source": [
        "print([' '.join(row) for row in tokenized_texts[:2]])"
      ],
      "execution_count": 6,
      "outputs": [
        {
          "output_type": "stream",
          "text": [
            "['what is the step by step guide to invest in share market in india ?', 'what is the story of kohinoor ( koh-i-noor ) diamond ?']\n"
          ],
          "name": "stdout"
        }
      ]
    },
    {
      "metadata": {
        "id": "9kj4dC3iLdwH",
        "colab_type": "text"
      },
      "cell_type": "markdown",
      "source": [
        "Потренируем небольшую модель на полученных текстах:"
      ]
    },
    {
      "metadata": {
        "id": "9GNuiLio8M25",
        "colab_type": "code",
        "colab": {}
      },
      "cell_type": "code",
      "source": [
        "from gensim.models import Word2Vec\n",
        "\n",
        "model = Word2Vec(tokenized_texts, \n",
        "                 size=32,      # embedding vector size\n",
        "                 min_count=5,  # consider words that occured at least 5 times\n",
        "                 window=5).wv  # define context as a 5-word window around the target word"
      ],
      "execution_count": 0,
      "outputs": []
    },
    {
      "metadata": {
        "id": "JclToDJMNwTy",
        "colab_type": "text"
      },
      "cell_type": "markdown",
      "source": [
        "## Изучаем полученную модель"
      ]
    },
    {
      "metadata": {
        "id": "JBVR2kY7LkCs",
        "colab_type": "text"
      },
      "cell_type": "markdown",
      "source": [
        "Ура, теперь можно делать то же, что было на `rusvectores`.\n",
        "\n",
        "Получить вектор для слова:"
      ]
    },
    {
      "metadata": {
        "id": "Jk6Fgraj-j3c",
        "colab_type": "code",
        "colab": {
          "base_uri": "https://localhost:8080/",
          "height": 139
        },
        "outputId": "9aa97ba1-0afb-4726-87d8-1269e9ce007b"
      },
      "cell_type": "code",
      "source": [
        "model.get_vector('anything')"
      ],
      "execution_count": 8,
      "outputs": [
        {
          "output_type": "execute_result",
          "data": {
            "text/plain": [
              "array([-1.7884617 , -0.81863326,  1.7923316 ,  1.2674221 , -4.1168275 ,\n",
              "       -0.26932317,  1.8010463 , -0.57794863,  2.4157777 ,  1.2022407 ,\n",
              "        1.4940501 , -1.0659149 , -0.34761056,  0.43706316, -2.152739  ,\n",
              "       -0.99292547,  1.9060445 , -3.8636596 , -0.7779046 ,  1.3947557 ,\n",
              "       -0.5590608 , -2.806943  ,  1.1561513 , -0.99698347,  1.8194884 ,\n",
              "       -2.579462  ,  5.1924124 , -1.9116967 ,  1.8707829 , -3.0715125 ,\n",
              "        1.4661866 , -0.98515326], dtype=float32)"
            ]
          },
          "metadata": {
            "tags": []
          },
          "execution_count": 8
        }
      ]
    },
    {
      "metadata": {
        "id": "qHKRy7HyLuxH",
        "colab_type": "text"
      },
      "cell_type": "markdown",
      "source": [
        "Найти наиболее близкие слова:"
      ]
    },
    {
      "metadata": {
        "id": "toyNzyTB-p70",
        "colab_type": "code",
        "colab": {
          "base_uri": "https://localhost:8080/",
          "height": 191
        },
        "outputId": "4e41a110-0d27-4e44-ddca-afedf87dd864"
      },
      "cell_type": "code",
      "source": [
        "model.most_similar('bread')"
      ],
      "execution_count": 9,
      "outputs": [
        {
          "output_type": "execute_result",
          "data": {
            "text/plain": [
              "[('rice', 0.9541592001914978),\n",
              " ('cheese', 0.9281907081604004),\n",
              " ('sauce', 0.9214181900024414),\n",
              " ('potato', 0.9160786867141724),\n",
              " ('fruit', 0.9129436016082764),\n",
              " ('grass', 0.9129422903060913),\n",
              " ('vodka', 0.9090826511383057),\n",
              " ('beans', 0.9077977538108826),\n",
              " ('butter', 0.9047990441322327),\n",
              " ('pasta', 0.9043393135070801)]"
            ]
          },
          "metadata": {
            "tags": []
          },
          "execution_count": 9
        }
      ]
    },
    {
      "metadata": {
        "id": "A510z5gTL00E",
        "colab_type": "text"
      },
      "cell_type": "markdown",
      "source": [
        "Или даже так:"
      ]
    },
    {
      "metadata": {
        "id": "j2A_DF5E-ucq",
        "colab_type": "code",
        "colab": {
          "base_uri": "https://localhost:8080/",
          "height": 191
        },
        "outputId": "30ec624c-321e-4954-d561-c4bce708f65e"
      },
      "cell_type": "code",
      "source": [
        "model.most_similar(positive=['coder', 'money'], negative=['brain'])"
      ],
      "execution_count": 10,
      "outputs": [
        {
          "output_type": "execute_result",
          "data": {
            "text/plain": [
              "[('$', 0.6913838982582092),\n",
              " ('sips', 0.6725483536720276),\n",
              " ('investment', 0.6643463373184204),\n",
              " ('betting', 0.6594439148902893),\n",
              " ('freelancer', 0.64803147315979),\n",
              " ('photographer', 0.6345831751823425),\n",
              " ('youtuber', 0.6307690739631653),\n",
              " ('entrepreneur', 0.6279386281967163),\n",
              " ('stocks', 0.6221266984939575),\n",
              " ('bucks', 0.6187198162078857)]"
            ]
          },
          "metadata": {
            "tags": []
          },
          "execution_count": 10
        }
      ]
    },
    {
      "metadata": {
        "id": "H-_uKG4vNIJv",
        "colab_type": "text"
      },
      "cell_type": "markdown",
      "source": [
        "И так, конечно:"
      ]
    },
    {
      "metadata": {
        "id": "l_mzQgi4L474",
        "colab_type": "code",
        "colab": {
          "base_uri": "https://localhost:8080/",
          "height": 191
        },
        "outputId": "b5a162c0-2104-43c6-924f-617fb062e51f"
      },
      "cell_type": "code",
      "source": [
        "model.most_similar([model.get_vector('politician') - model.get_vector('power') + model.get_vector('honesty')])"
      ],
      "execution_count": 11,
      "outputs": [
        {
          "output_type": "execute_result",
          "data": {
            "text/plain": [
              "[('romantic', 0.6423622965812683),\n",
              " ('ladies', 0.603871762752533),\n",
              " ('solo', 0.5903751850128174),\n",
              " ('presents', 0.5859601497650146),\n",
              " ('13-year-old', 0.5842249393463135),\n",
              " ('ted', 0.582717776298523),\n",
              " ('actress', 0.5779345035552979),\n",
              " ('alia', 0.5733368396759033),\n",
              " ('handsome', 0.5729860067367554),\n",
              " ('proposes', 0.5678133964538574)]"
            ]
          },
          "metadata": {
            "tags": []
          },
          "execution_count": 11
        }
      ]
    },
    {
      "metadata": {
        "id": "y5BAEyMyL2kx",
        "colab_type": "text"
      },
      "cell_type": "markdown",
      "source": [
        "**Задание** Поищите аналогии самостоятельно. "
      ]
    },
    {
      "metadata": {
        "id": "1FYuh4DKN1Fd",
        "colab_type": "text"
      },
      "cell_type": "markdown",
      "source": [
        "## Визуализируем модель"
      ]
    },
    {
      "metadata": {
        "id": "OdT0eIEiN4Ja",
        "colab_type": "text"
      },
      "cell_type": "markdown",
      "source": [
        "Посмотрим на проекции первых тысячи самых частотных слов."
      ]
    },
    {
      "metadata": {
        "id": "d1e9yS0zBr6j",
        "colab_type": "code",
        "colab": {
          "base_uri": "https://localhost:8080/",
          "height": 34
        },
        "outputId": "435d7b3f-c047-46a8-e2b6-1568715307ab"
      },
      "cell_type": "code",
      "source": [
        "words = sorted(model.vocab.keys(), \n",
        "               key=lambda word: model.vocab[word].count,\n",
        "               reverse=True)[:1000]\n",
        "\n",
        "print(words[::100])"
      ],
      "execution_count": 12,
      "outputs": [
        {
          "output_type": "stream",
          "text": [
            "['?', 'money', 'study', 's', '6', 'physics', 'says', 'view', 'users', 'pressure']\n"
          ],
          "name": "stdout"
        }
      ]
    },
    {
      "metadata": {
        "id": "0Yk5pgMXOESS",
        "colab_type": "text"
      },
      "cell_type": "markdown",
      "source": [
        "**Задание** Постройте матрицу из эмбеддингов этих слов:"
      ]
    },
    {
      "metadata": {
        "id": "kQu724f2CAh0",
        "colab_type": "code",
        "colab": {}
      },
      "cell_type": "code",
      "source": [
        "word_vectors = model.vectors[[model.vocab[word].index for word in words]]\n",
        "\n",
        "assert isinstance(word_vectors, np.ndarray)\n",
        "assert word_vectors.shape == (len(words), model.vectors.shape[1])\n",
        "assert np.isfinite(word_vectors).all()"
      ],
      "execution_count": 0,
      "outputs": []
    },
    {
      "metadata": {
        "id": "gRS6ph4bXmxs",
        "colab_type": "code",
        "colab": {
          "base_uri": "https://localhost:8080/",
          "height": 34
        },
        "outputId": "6b786504-cdc6-4e56-a0e5-9f66b585b327"
      },
      "cell_type": "code",
      "source": [
        "word_vectors.shape"
      ],
      "execution_count": 14,
      "outputs": [
        {
          "output_type": "execute_result",
          "data": {
            "text/plain": [
              "(1000, 32)"
            ]
          },
          "metadata": {
            "tags": []
          },
          "execution_count": 14
        }
      ]
    },
    {
      "metadata": {
        "id": "f7cgxin-OTvK",
        "colab_type": "text"
      },
      "cell_type": "markdown",
      "source": [
        "### PCA\n",
        "\n",
        "Простейший линейный метод сокращения размерностей - __P__rincipial __C__omponent __A__nalysis.\n",
        "\n",
        "PCA ищет оси, при проекции на которые данные будут иметь наибольший разброс.\n",
        "\n",
        "![pca](https://i.stack.imgur.com/Q7HIP.gif)\n",
        "*From [https://stats.stackexchange.com/a/140579](https://stats.stackexchange.com/a/140579)*\n",
        "\n",
        "В результате, можно взять проекции на несколько первых компонент - и сохранить как можно больше информации, сократив размерность.\n",
        "\n",
        "Красивые визуализации можно найти [здесь](http://setosa.io/ev/principal-component-analysis/).\n",
        "\n",
        "**Задание** Воспользуйтесь PCA из sklearn, а потом центрируйте и нормируйте результат."
      ]
    },
    {
      "metadata": {
        "id": "V0fQKZw2Css4",
        "colab_type": "code",
        "colab": {}
      },
      "cell_type": "code",
      "source": [
        "from sklearn.decomposition import PCA\n",
        "from sklearn.preprocessing import scale\n",
        "\n",
        "def get_pca_projection(word_vectors):\n",
        "    \n",
        "    pca = PCA(n_components=2)\n",
        "    pca.fit(word_vectors)\n",
        "    \n",
        "    X = pca.transform(word_vectors)\n",
        "    X = scale(X)\n",
        "    return X"
      ],
      "execution_count": 0,
      "outputs": []
    },
    {
      "metadata": {
        "id": "a_9VtLl9CviW",
        "colab_type": "code",
        "colab": {
          "base_uri": "https://localhost:8080/",
          "height": 106
        },
        "outputId": "a8f4664d-c85e-461b-db6a-be1e45c9cde3"
      },
      "cell_type": "code",
      "source": [
        "word_vectors_pca = get_pca_projection(word_vectors)\n",
        "\n",
        "assert word_vectors_pca.shape == (len(word_vectors), 2), \"there must be a 2d vector for each word\"\n",
        "assert max(abs(word_vectors_pca.mean(0))) < 1e-5, \"points must be zero-centered\"\n",
        "assert max(abs(1 - word_vectors_pca.std(0))) < 1e-5, \"points must have unit variance\""
      ],
      "execution_count": 48,
      "outputs": [
        {
          "output_type": "stream",
          "text": [
            "/usr/local/lib/python3.6/dist-packages/sklearn/preprocessing/data.py:180: UserWarning: Numerical issues were encountered when centering the data and might not be solved. Dataset may contain too large values. You may need to prescale your features.\n",
            "  warnings.warn(\"Numerical issues were encountered \"\n",
            "/usr/local/lib/python3.6/dist-packages/sklearn/preprocessing/data.py:197: UserWarning: Numerical issues were encountered when scaling the data and might not be solved. The standard deviation of the data is probably very close to 0. \n",
            "  warnings.warn(\"Numerical issues were encountered \"\n"
          ],
          "name": "stderr"
        }
      ]
    },
    {
      "metadata": {
        "id": "jGyvhrk7Rlyt",
        "colab_type": "text"
      },
      "cell_type": "markdown",
      "source": [
        "Визуализируем то, что получилось:"
      ]
    },
    {
      "metadata": {
        "id": "1U58YxF3Cx0W",
        "colab_type": "code",
        "colab": {}
      },
      "cell_type": "code",
      "source": [
        "import bokeh.models as bm, bokeh.plotting as pl\n",
        "from bokeh.io import output_notebook\n",
        "\n",
        "def draw_vectors(x, y, radius=10, alpha=0.25, color='blue',\n",
        "                 width=600, height=400, show=True, **kwargs):\n",
        "    \"\"\" draws an interactive plot for data points with auxilirary info on hover \"\"\"\n",
        "    output_notebook()\n",
        "    \n",
        "    if isinstance(color, str): \n",
        "        color = [color] * len(x)\n",
        "    data_source = bm.ColumnDataSource({ 'x' : x, 'y' : y, 'color': color, **kwargs })\n",
        "\n",
        "    fig = pl.figure(active_scroll='wheel_zoom', width=width, height=height)\n",
        "    fig.scatter('x', 'y', size=radius, color='color', alpha=alpha, source=data_source)\n",
        "\n",
        "    fig.add_tools(bm.HoverTool(tooltips=[(key, \"@\" + key) for key in kwargs.keys()]))\n",
        "    if show: \n",
        "        pl.show(fig)\n",
        "    return fig"
      ],
      "execution_count": 0,
      "outputs": []
    },
    {
      "metadata": {
        "id": "qBljy2hCC1qX",
        "colab_type": "code",
        "colab": {
          "base_uri": "https://localhost:8080/",
          "height": 464
        },
        "outputId": "949c8c70-1feb-4076-a16d-5a2da66795b8"
      },
      "cell_type": "code",
      "source": [
        "draw_vectors(word_vectors_pca[:, 0], word_vectors_pca[:, 1], token=words)"
      ],
      "execution_count": 50,
      "outputs": [
        {
          "output_type": "display_data",
          "data": {
            "text/html": [
              "\n",
              "    <div class=\"bk-root\">\n",
              "        <a href=\"https://bokeh.pydata.org\" target=\"_blank\" class=\"bk-logo bk-logo-small bk-logo-notebook\"></a>\n",
              "        <span id=\"1001\">Loading BokehJS ...</span>\n",
              "    </div>"
            ]
          },
          "metadata": {
            "tags": []
          }
        },
        {
          "output_type": "display_data",
          "data": {
            "application/javascript": [
              "\n",
              "(function(root) {\n",
              "  function now() {\n",
              "    return new Date();\n",
              "  }\n",
              "\n",
              "  var force = true;\n",
              "\n",
              "  if (typeof root._bokeh_onload_callbacks === \"undefined\" || force === true) {\n",
              "    root._bokeh_onload_callbacks = [];\n",
              "    root._bokeh_is_loading = undefined;\n",
              "  }\n",
              "\n",
              "  var JS_MIME_TYPE = 'application/javascript';\n",
              "  var HTML_MIME_TYPE = 'text/html';\n",
              "  var EXEC_MIME_TYPE = 'application/vnd.bokehjs_exec.v0+json';\n",
              "  var CLASS_NAME = 'output_bokeh rendered_html';\n",
              "\n",
              "  /**\n",
              "   * Render data to the DOM node\n",
              "   */\n",
              "  function render(props, node) {\n",
              "    var script = document.createElement(\"script\");\n",
              "    node.appendChild(script);\n",
              "  }\n",
              "\n",
              "  /**\n",
              "   * Handle when an output is cleared or removed\n",
              "   */\n",
              "  function handleClearOutput(event, handle) {\n",
              "    var cell = handle.cell;\n",
              "\n",
              "    var id = cell.output_area._bokeh_element_id;\n",
              "    var server_id = cell.output_area._bokeh_server_id;\n",
              "    // Clean up Bokeh references\n",
              "    if (id != null && id in Bokeh.index) {\n",
              "      Bokeh.index[id].model.document.clear();\n",
              "      delete Bokeh.index[id];\n",
              "    }\n",
              "\n",
              "    if (server_id !== undefined) {\n",
              "      // Clean up Bokeh references\n",
              "      var cmd = \"from bokeh.io.state import curstate; print(curstate().uuid_to_server['\" + server_id + \"'].get_sessions()[0].document.roots[0]._id)\";\n",
              "      cell.notebook.kernel.execute(cmd, {\n",
              "        iopub: {\n",
              "          output: function(msg) {\n",
              "            var id = msg.content.text.trim();\n",
              "            if (id in Bokeh.index) {\n",
              "              Bokeh.index[id].model.document.clear();\n",
              "              delete Bokeh.index[id];\n",
              "            }\n",
              "          }\n",
              "        }\n",
              "      });\n",
              "      // Destroy server and session\n",
              "      var cmd = \"import bokeh.io.notebook as ion; ion.destroy_server('\" + server_id + \"')\";\n",
              "      cell.notebook.kernel.execute(cmd);\n",
              "    }\n",
              "  }\n",
              "\n",
              "  /**\n",
              "   * Handle when a new output is added\n",
              "   */\n",
              "  function handleAddOutput(event, handle) {\n",
              "    var output_area = handle.output_area;\n",
              "    var output = handle.output;\n",
              "\n",
              "    // limit handleAddOutput to display_data with EXEC_MIME_TYPE content only\n",
              "    if ((output.output_type != \"display_data\") || (!output.data.hasOwnProperty(EXEC_MIME_TYPE))) {\n",
              "      return\n",
              "    }\n",
              "\n",
              "    var toinsert = output_area.element.find(\".\" + CLASS_NAME.split(' ')[0]);\n",
              "\n",
              "    if (output.metadata[EXEC_MIME_TYPE][\"id\"] !== undefined) {\n",
              "      toinsert[toinsert.length - 1].firstChild.textContent = output.data[JS_MIME_TYPE];\n",
              "      // store reference to embed id on output_area\n",
              "      output_area._bokeh_element_id = output.metadata[EXEC_MIME_TYPE][\"id\"];\n",
              "    }\n",
              "    if (output.metadata[EXEC_MIME_TYPE][\"server_id\"] !== undefined) {\n",
              "      var bk_div = document.createElement(\"div\");\n",
              "      bk_div.innerHTML = output.data[HTML_MIME_TYPE];\n",
              "      var script_attrs = bk_div.children[0].attributes;\n",
              "      for (var i = 0; i < script_attrs.length; i++) {\n",
              "        toinsert[toinsert.length - 1].firstChild.setAttribute(script_attrs[i].name, script_attrs[i].value);\n",
              "      }\n",
              "      // store reference to server id on output_area\n",
              "      output_area._bokeh_server_id = output.metadata[EXEC_MIME_TYPE][\"server_id\"];\n",
              "    }\n",
              "  }\n",
              "\n",
              "  function register_renderer(events, OutputArea) {\n",
              "\n",
              "    function append_mime(data, metadata, element) {\n",
              "      // create a DOM node to render to\n",
              "      var toinsert = this.create_output_subarea(\n",
              "        metadata,\n",
              "        CLASS_NAME,\n",
              "        EXEC_MIME_TYPE\n",
              "      );\n",
              "      this.keyboard_manager.register_events(toinsert);\n",
              "      // Render to node\n",
              "      var props = {data: data, metadata: metadata[EXEC_MIME_TYPE]};\n",
              "      render(props, toinsert[toinsert.length - 1]);\n",
              "      element.append(toinsert);\n",
              "      return toinsert\n",
              "    }\n",
              "\n",
              "    /* Handle when an output is cleared or removed */\n",
              "    events.on('clear_output.CodeCell', handleClearOutput);\n",
              "    events.on('delete.Cell', handleClearOutput);\n",
              "\n",
              "    /* Handle when a new output is added */\n",
              "    events.on('output_added.OutputArea', handleAddOutput);\n",
              "\n",
              "    /**\n",
              "     * Register the mime type and append_mime function with output_area\n",
              "     */\n",
              "    OutputArea.prototype.register_mime_type(EXEC_MIME_TYPE, append_mime, {\n",
              "      /* Is output safe? */\n",
              "      safe: true,\n",
              "      /* Index of renderer in `output_area.display_order` */\n",
              "      index: 0\n",
              "    });\n",
              "  }\n",
              "\n",
              "  // register the mime type if in Jupyter Notebook environment and previously unregistered\n",
              "  if (root.Jupyter !== undefined) {\n",
              "    var events = require('base/js/events');\n",
              "    var OutputArea = require('notebook/js/outputarea').OutputArea;\n",
              "\n",
              "    if (OutputArea.prototype.mime_types().indexOf(EXEC_MIME_TYPE) == -1) {\n",
              "      register_renderer(events, OutputArea);\n",
              "    }\n",
              "  }\n",
              "\n",
              "  \n",
              "  if (typeof (root._bokeh_timeout) === \"undefined\" || force === true) {\n",
              "    root._bokeh_timeout = Date.now() + 5000;\n",
              "    root._bokeh_failed_load = false;\n",
              "  }\n",
              "\n",
              "  var NB_LOAD_WARNING = {'data': {'text/html':\n",
              "     \"<div style='background-color: #fdd'>\\n\"+\n",
              "     \"<p>\\n\"+\n",
              "     \"BokehJS does not appear to have successfully loaded. If loading BokehJS from CDN, this \\n\"+\n",
              "     \"may be due to a slow or bad network connection. Possible fixes:\\n\"+\n",
              "     \"</p>\\n\"+\n",
              "     \"<ul>\\n\"+\n",
              "     \"<li>re-rerun `output_notebook()` to attempt to load from CDN again, or</li>\\n\"+\n",
              "     \"<li>use INLINE resources instead, as so:</li>\\n\"+\n",
              "     \"</ul>\\n\"+\n",
              "     \"<code>\\n\"+\n",
              "     \"from bokeh.resources import INLINE\\n\"+\n",
              "     \"output_notebook(resources=INLINE)\\n\"+\n",
              "     \"</code>\\n\"+\n",
              "     \"</div>\"}};\n",
              "\n",
              "  function display_loaded() {\n",
              "    var el = document.getElementById(\"1001\");\n",
              "    if (el != null) {\n",
              "      el.textContent = \"BokehJS is loading...\";\n",
              "    }\n",
              "    if (root.Bokeh !== undefined) {\n",
              "      if (el != null) {\n",
              "        el.textContent = \"BokehJS \" + root.Bokeh.version + \" successfully loaded.\";\n",
              "      }\n",
              "    } else if (Date.now() < root._bokeh_timeout) {\n",
              "      setTimeout(display_loaded, 100)\n",
              "    }\n",
              "  }\n",
              "\n",
              "\n",
              "  function run_callbacks() {\n",
              "    try {\n",
              "      root._bokeh_onload_callbacks.forEach(function(callback) {\n",
              "        if (callback != null)\n",
              "          callback();\n",
              "      });\n",
              "    } finally {\n",
              "      delete root._bokeh_onload_callbacks\n",
              "    }\n",
              "    console.debug(\"Bokeh: all callbacks have finished\");\n",
              "  }\n",
              "\n",
              "  function load_libs(css_urls, js_urls, callback) {\n",
              "    if (css_urls == null) css_urls = [];\n",
              "    if (js_urls == null) js_urls = [];\n",
              "\n",
              "    root._bokeh_onload_callbacks.push(callback);\n",
              "    if (root._bokeh_is_loading > 0) {\n",
              "      console.debug(\"Bokeh: BokehJS is being loaded, scheduling callback at\", now());\n",
              "      return null;\n",
              "    }\n",
              "    if (js_urls == null || js_urls.length === 0) {\n",
              "      run_callbacks();\n",
              "      return null;\n",
              "    }\n",
              "    console.debug(\"Bokeh: BokehJS not loaded, scheduling load and callback at\", now());\n",
              "    root._bokeh_is_loading = css_urls.length + js_urls.length;\n",
              "\n",
              "    function on_load() {\n",
              "      root._bokeh_is_loading--;\n",
              "      if (root._bokeh_is_loading === 0) {\n",
              "        console.debug(\"Bokeh: all BokehJS libraries/stylesheets loaded\");\n",
              "        run_callbacks()\n",
              "      }\n",
              "    }\n",
              "\n",
              "    function on_error() {\n",
              "      console.error(\"failed to load \" + url);\n",
              "    }\n",
              "\n",
              "    for (var i = 0; i < css_urls.length; i++) {\n",
              "      var url = css_urls[i];\n",
              "      const element = document.createElement(\"link\");\n",
              "      element.onload = on_load;\n",
              "      element.onerror = on_error;\n",
              "      element.rel = \"stylesheet\";\n",
              "      element.type = \"text/css\";\n",
              "      element.href = url;\n",
              "      console.debug(\"Bokeh: injecting link tag for BokehJS stylesheet: \", url);\n",
              "      document.body.appendChild(element);\n",
              "    }\n",
              "\n",
              "    for (var i = 0; i < js_urls.length; i++) {\n",
              "      var url = js_urls[i];\n",
              "      var element = document.createElement('script');\n",
              "      element.onload = on_load;\n",
              "      element.onerror = on_error;\n",
              "      element.async = false;\n",
              "      element.src = url;\n",
              "      console.debug(\"Bokeh: injecting script tag for BokehJS library: \", url);\n",
              "      document.head.appendChild(element);\n",
              "    }\n",
              "  };var element = document.getElementById(\"1001\");\n",
              "  if (element == null) {\n",
              "    console.error(\"Bokeh: ERROR: autoload.js configured with elementid '1001' but no matching script tag was found. \")\n",
              "    return false;\n",
              "  }\n",
              "\n",
              "  function inject_raw_css(css) {\n",
              "    const element = document.createElement(\"style\");\n",
              "    element.appendChild(document.createTextNode(css));\n",
              "    document.body.appendChild(element);\n",
              "  }\n",
              "\n",
              "  var js_urls = [\"https://cdn.pydata.org/bokeh/release/bokeh-1.1.0.min.js\", \"https://cdn.pydata.org/bokeh/release/bokeh-widgets-1.1.0.min.js\", \"https://cdn.pydata.org/bokeh/release/bokeh-tables-1.1.0.min.js\", \"https://cdn.pydata.org/bokeh/release/bokeh-gl-1.1.0.min.js\"];\n",
              "  var css_urls = [\"https://cdn.pydata.org/bokeh/release/bokeh-1.1.0.min.css\", \"https://cdn.pydata.org/bokeh/release/bokeh-widgets-1.1.0.min.css\", \"https://cdn.pydata.org/bokeh/release/bokeh-tables-1.1.0.min.css\"];\n",
              "\n",
              "  var inline_js = [\n",
              "    function(Bokeh) {\n",
              "      Bokeh.set_log_level(\"info\");\n",
              "    },\n",
              "    \n",
              "    function(Bokeh) {\n",
              "      \n",
              "    },\n",
              "    function(Bokeh) {} // ensure no trailing comma for IE\n",
              "  ];\n",
              "\n",
              "  function run_inline_js() {\n",
              "    \n",
              "    if ((root.Bokeh !== undefined) || (force === true)) {\n",
              "      for (var i = 0; i < inline_js.length; i++) {\n",
              "        inline_js[i].call(root, root.Bokeh);\n",
              "      }if (force === true) {\n",
              "        display_loaded();\n",
              "      }} else if (Date.now() < root._bokeh_timeout) {\n",
              "      setTimeout(run_inline_js, 100);\n",
              "    } else if (!root._bokeh_failed_load) {\n",
              "      console.log(\"Bokeh: BokehJS failed to load within specified timeout.\");\n",
              "      root._bokeh_failed_load = true;\n",
              "    } else if (force !== true) {\n",
              "      var cell = $(document.getElementById(\"1001\")).parents('.cell').data().cell;\n",
              "      cell.output_area.append_execute_result(NB_LOAD_WARNING)\n",
              "    }\n",
              "\n",
              "  }\n",
              "\n",
              "  if (root._bokeh_is_loading === 0) {\n",
              "    console.debug(\"Bokeh: BokehJS loaded, going straight to plotting\");\n",
              "    run_inline_js();\n",
              "  } else {\n",
              "    load_libs(css_urls, js_urls, function() {\n",
              "      console.debug(\"Bokeh: BokehJS plotting callback run at\", now());\n",
              "      run_inline_js();\n",
              "    });\n",
              "  }\n",
              "}(window));"
            ],
            "application/vnd.bokehjs_load.v0+json": "\n(function(root) {\n  function now() {\n    return new Date();\n  }\n\n  var force = true;\n\n  if (typeof root._bokeh_onload_callbacks === \"undefined\" || force === true) {\n    root._bokeh_onload_callbacks = [];\n    root._bokeh_is_loading = undefined;\n  }\n\n  \n\n  \n  if (typeof (root._bokeh_timeout) === \"undefined\" || force === true) {\n    root._bokeh_timeout = Date.now() + 5000;\n    root._bokeh_failed_load = false;\n  }\n\n  var NB_LOAD_WARNING = {'data': {'text/html':\n     \"<div style='background-color: #fdd'>\\n\"+\n     \"<p>\\n\"+\n     \"BokehJS does not appear to have successfully loaded. If loading BokehJS from CDN, this \\n\"+\n     \"may be due to a slow or bad network connection. Possible fixes:\\n\"+\n     \"</p>\\n\"+\n     \"<ul>\\n\"+\n     \"<li>re-rerun `output_notebook()` to attempt to load from CDN again, or</li>\\n\"+\n     \"<li>use INLINE resources instead, as so:</li>\\n\"+\n     \"</ul>\\n\"+\n     \"<code>\\n\"+\n     \"from bokeh.resources import INLINE\\n\"+\n     \"output_notebook(resources=INLINE)\\n\"+\n     \"</code>\\n\"+\n     \"</div>\"}};\n\n  function display_loaded() {\n    var el = document.getElementById(\"1001\");\n    if (el != null) {\n      el.textContent = \"BokehJS is loading...\";\n    }\n    if (root.Bokeh !== undefined) {\n      if (el != null) {\n        el.textContent = \"BokehJS \" + root.Bokeh.version + \" successfully loaded.\";\n      }\n    } else if (Date.now() < root._bokeh_timeout) {\n      setTimeout(display_loaded, 100)\n    }\n  }\n\n\n  function run_callbacks() {\n    try {\n      root._bokeh_onload_callbacks.forEach(function(callback) {\n        if (callback != null)\n          callback();\n      });\n    } finally {\n      delete root._bokeh_onload_callbacks\n    }\n    console.debug(\"Bokeh: all callbacks have finished\");\n  }\n\n  function load_libs(css_urls, js_urls, callback) {\n    if (css_urls == null) css_urls = [];\n    if (js_urls == null) js_urls = [];\n\n    root._bokeh_onload_callbacks.push(callback);\n    if (root._bokeh_is_loading > 0) {\n      console.debug(\"Bokeh: BokehJS is being loaded, scheduling callback at\", now());\n      return null;\n    }\n    if (js_urls == null || js_urls.length === 0) {\n      run_callbacks();\n      return null;\n    }\n    console.debug(\"Bokeh: BokehJS not loaded, scheduling load and callback at\", now());\n    root._bokeh_is_loading = css_urls.length + js_urls.length;\n\n    function on_load() {\n      root._bokeh_is_loading--;\n      if (root._bokeh_is_loading === 0) {\n        console.debug(\"Bokeh: all BokehJS libraries/stylesheets loaded\");\n        run_callbacks()\n      }\n    }\n\n    function on_error() {\n      console.error(\"failed to load \" + url);\n    }\n\n    for (var i = 0; i < css_urls.length; i++) {\n      var url = css_urls[i];\n      const element = document.createElement(\"link\");\n      element.onload = on_load;\n      element.onerror = on_error;\n      element.rel = \"stylesheet\";\n      element.type = \"text/css\";\n      element.href = url;\n      console.debug(\"Bokeh: injecting link tag for BokehJS stylesheet: \", url);\n      document.body.appendChild(element);\n    }\n\n    for (var i = 0; i < js_urls.length; i++) {\n      var url = js_urls[i];\n      var element = document.createElement('script');\n      element.onload = on_load;\n      element.onerror = on_error;\n      element.async = false;\n      element.src = url;\n      console.debug(\"Bokeh: injecting script tag for BokehJS library: \", url);\n      document.head.appendChild(element);\n    }\n  };var element = document.getElementById(\"1001\");\n  if (element == null) {\n    console.error(\"Bokeh: ERROR: autoload.js configured with elementid '1001' but no matching script tag was found. \")\n    return false;\n  }\n\n  function inject_raw_css(css) {\n    const element = document.createElement(\"style\");\n    element.appendChild(document.createTextNode(css));\n    document.body.appendChild(element);\n  }\n\n  var js_urls = [\"https://cdn.pydata.org/bokeh/release/bokeh-1.1.0.min.js\", \"https://cdn.pydata.org/bokeh/release/bokeh-widgets-1.1.0.min.js\", \"https://cdn.pydata.org/bokeh/release/bokeh-tables-1.1.0.min.js\", \"https://cdn.pydata.org/bokeh/release/bokeh-gl-1.1.0.min.js\"];\n  var css_urls = [\"https://cdn.pydata.org/bokeh/release/bokeh-1.1.0.min.css\", \"https://cdn.pydata.org/bokeh/release/bokeh-widgets-1.1.0.min.css\", \"https://cdn.pydata.org/bokeh/release/bokeh-tables-1.1.0.min.css\"];\n\n  var inline_js = [\n    function(Bokeh) {\n      Bokeh.set_log_level(\"info\");\n    },\n    \n    function(Bokeh) {\n      \n    },\n    function(Bokeh) {} // ensure no trailing comma for IE\n  ];\n\n  function run_inline_js() {\n    \n    if ((root.Bokeh !== undefined) || (force === true)) {\n      for (var i = 0; i < inline_js.length; i++) {\n        inline_js[i].call(root, root.Bokeh);\n      }if (force === true) {\n        display_loaded();\n      }} else if (Date.now() < root._bokeh_timeout) {\n      setTimeout(run_inline_js, 100);\n    } else if (!root._bokeh_failed_load) {\n      console.log(\"Bokeh: BokehJS failed to load within specified timeout.\");\n      root._bokeh_failed_load = true;\n    } else if (force !== true) {\n      var cell = $(document.getElementById(\"1001\")).parents('.cell').data().cell;\n      cell.output_area.append_execute_result(NB_LOAD_WARNING)\n    }\n\n  }\n\n  if (root._bokeh_is_loading === 0) {\n    console.debug(\"Bokeh: BokehJS loaded, going straight to plotting\");\n    run_inline_js();\n  } else {\n    load_libs(css_urls, js_urls, function() {\n      console.debug(\"Bokeh: BokehJS plotting callback run at\", now());\n      run_inline_js();\n    });\n  }\n}(window));"
          },
          "metadata": {
            "tags": []
          }
        },
        {
          "output_type": "display_data",
          "data": {
            "text/html": [
              "\n",
              "\n",
              "\n",
              "\n",
              "\n",
              "\n",
              "  <div class=\"bk-root\" id=\"593bcf24-189d-4eab-93e7-5c8de1b79cb6\" data-root-id=\"1003\"></div>\n"
            ]
          },
          "metadata": {
            "tags": []
          }
        },
        {
          "output_type": "display_data",
          "data": {
            "application/javascript": [
              "(function(root) {\n",
              "  function embed_document(root) {\n",
              "    \n",
              "  var docs_json = {\"f00d010a-56a0-44a5-8004-550534e0999d\":{\"roots\":{\"references\":[{\"attributes\":{\"below\":[{\"id\":\"1012\",\"type\":\"LinearAxis\"}],\"center\":[{\"id\":\"1016\",\"type\":\"Grid\"},{\"id\":\"1021\",\"type\":\"Grid\"}],\"left\":[{\"id\":\"1017\",\"type\":\"LinearAxis\"}],\"plot_height\":400,\"renderers\":[{\"id\":\"1038\",\"type\":\"GlyphRenderer\"}],\"title\":{\"id\":\"1042\",\"type\":\"Title\"},\"toolbar\":{\"id\":\"1028\",\"type\":\"Toolbar\"},\"x_range\":{\"id\":\"1004\",\"type\":\"DataRange1d\"},\"x_scale\":{\"id\":\"1008\",\"type\":\"LinearScale\"},\"y_range\":{\"id\":\"1006\",\"type\":\"DataRange1d\"},\"y_scale\":{\"id\":\"1010\",\"type\":\"LinearScale\"}},\"id\":\"1003\",\"subtype\":\"Figure\",\"type\":\"Plot\"},{\"attributes\":{},\"id\":\"1046\",\"type\":\"BasicTickFormatter\"},{\"attributes\":{\"callback\":null,\"tooltips\":[[\"token\",\"@token\"]]},\"id\":\"1040\",\"type\":\"HoverTool\"},{\"attributes\":{},\"id\":\"1022\",\"type\":\"PanTool\"},{\"attributes\":{},\"id\":\"1010\",\"type\":\"LinearScale\"},{\"attributes\":{\"text\":\"\"},\"id\":\"1042\",\"type\":\"Title\"},{\"attributes\":{},\"id\":\"1044\",\"type\":\"BasicTickFormatter\"},{\"attributes\":{},\"id\":\"1008\",\"type\":\"LinearScale\"},{\"attributes\":{},\"id\":\"1026\",\"type\":\"ResetTool\"},{\"attributes\":{},\"id\":\"1048\",\"type\":\"Selection\"},{\"attributes\":{\"formatter\":{\"id\":\"1046\",\"type\":\"BasicTickFormatter\"},\"ticker\":{\"id\":\"1013\",\"type\":\"BasicTicker\"}},\"id\":\"1012\",\"type\":\"LinearAxis\"},{\"attributes\":{},\"id\":\"1027\",\"type\":\"HelpTool\"},{\"attributes\":{},\"id\":\"1049\",\"type\":\"UnionRenderers\"},{\"attributes\":{\"source\":{\"id\":\"1002\",\"type\":\"ColumnDataSource\"}},\"id\":\"1039\",\"type\":\"CDSView\"},{\"attributes\":{},\"id\":\"1023\",\"type\":\"WheelZoomTool\"},{\"attributes\":{},\"id\":\"1013\",\"type\":\"BasicTicker\"},{\"attributes\":{\"bottom_units\":\"screen\",\"fill_alpha\":{\"value\":0.5},\"fill_color\":{\"value\":\"lightgrey\"},\"left_units\":\"screen\",\"level\":\"overlay\",\"line_alpha\":{\"value\":1.0},\"line_color\":{\"value\":\"black\"},\"line_dash\":[4,4],\"line_width\":{\"value\":2},\"render_mode\":\"css\",\"right_units\":\"screen\",\"top_units\":\"screen\"},\"id\":\"1050\",\"type\":\"BoxAnnotation\"},{\"attributes\":{\"callback\":null},\"id\":\"1004\",\"type\":\"DataRange1d\"},{\"attributes\":{\"overlay\":{\"id\":\"1050\",\"type\":\"BoxAnnotation\"}},\"id\":\"1024\",\"type\":\"BoxZoomTool\"},{\"attributes\":{\"active_drag\":\"auto\",\"active_inspect\":\"auto\",\"active_multi\":null,\"active_scroll\":{\"id\":\"1023\",\"type\":\"WheelZoomTool\"},\"active_tap\":\"auto\",\"tools\":[{\"id\":\"1022\",\"type\":\"PanTool\"},{\"id\":\"1023\",\"type\":\"WheelZoomTool\"},{\"id\":\"1024\",\"type\":\"BoxZoomTool\"},{\"id\":\"1025\",\"type\":\"SaveTool\"},{\"id\":\"1026\",\"type\":\"ResetTool\"},{\"id\":\"1027\",\"type\":\"HelpTool\"},{\"id\":\"1040\",\"type\":\"HoverTool\"}]},\"id\":\"1028\",\"type\":\"Toolbar\"},{\"attributes\":{\"callback\":null},\"id\":\"1006\",\"type\":\"DataRange1d\"},{\"attributes\":{\"callback\":null,\"data\":{\"color\":[\"blue\",\"blue\",\"blue\",\"blue\",\"blue\",\"blue\",\"blue\",\"blue\",\"blue\",\"blue\",\"blue\",\"blue\",\"blue\",\"blue\",\"blue\",\"blue\",\"blue\",\"blue\",\"blue\",\"blue\",\"blue\",\"blue\",\"blue\",\"blue\",\"blue\",\"blue\",\"blue\",\"blue\",\"blue\",\"blue\",\"blue\",\"blue\",\"blue\",\"blue\",\"blue\",\"blue\",\"blue\",\"blue\",\"blue\",\"blue\",\"blue\",\"blue\",\"blue\",\"blue\",\"blue\",\"blue\",\"blue\",\"blue\",\"blue\",\"blue\",\"blue\",\"blue\",\"blue\",\"blue\",\"blue\",\"blue\",\"blue\",\"blue\",\"blue\",\"blue\",\"blue\",\"blue\",\"blue\",\"blue\",\"blue\",\"blue\",\"blue\",\"blue\",\"blue\",\"blue\",\"blue\",\"blue\",\"blue\",\"blue\",\"blue\",\"blue\",\"blue\",\"blue\",\"blue\",\"blue\",\"blue\",\"blue\",\"blue\",\"blue\",\"blue\",\"blue\",\"blue\",\"blue\",\"blue\",\"blue\",\"blue\",\"blue\",\"blue\",\"blue\",\"blue\",\"blue\",\"blue\",\"blue\",\"blue\",\"blue\",\"blue\",\"blue\",\"blue\",\"blue\",\"blue\",\"blue\",\"blue\",\"blue\",\"blue\",\"blue\",\"blue\",\"blue\",\"blue\",\"blue\",\"blue\",\"blue\",\"blue\",\"blue\",\"blue\",\"blue\",\"blue\",\"blue\",\"blue\",\"blue\",\"blue\",\"blue\",\"blue\",\"blue\",\"blue\",\"blue\",\"blue\",\"blue\",\"blue\",\"blue\",\"blue\",\"blue\",\"blue\",\"blue\",\"blue\",\"blue\",\"blue\",\"blue\",\"blue\",\"blue\",\"blue\",\"blue\",\"blue\",\"blue\",\"blue\",\"blue\",\"blue\",\"blue\",\"blue\",\"blue\",\"blue\",\"blue\",\"blue\",\"blue\",\"blue\",\"blue\",\"blue\",\"blue\",\"blue\",\"blue\",\"blue\",\"blue\",\"blue\",\"blue\",\"blue\",\"blue\",\"blue\",\"blue\",\"blue\",\"blue\",\"blue\",\"blue\",\"blue\",\"blue\",\"blue\",\"blue\",\"blue\",\"blue\",\"blue\",\"blue\",\"blue\",\"blue\",\"blue\",\"blue\",\"blue\",\"blue\",\"blue\",\"blue\",\"blue\",\"blue\",\"blue\",\"blue\",\"blue\",\"blue\",\"blue\",\"blue\",\"blue\",\"blue\",\"blue\",\"blue\",\"blue\",\"blue\",\"blue\",\"blue\",\"blue\",\"blue\",\"blue\",\"blue\",\"blue\",\"blue\",\"blue\",\"blue\",\"blue\",\"blue\",\"blue\",\"blue\",\"blue\",\"blue\",\"blue\",\"blue\",\"blue\",\"blue\",\"blue\",\"blue\",\"blue\",\"blue\",\"blue\",\"blue\",\"blue\",\"blue\",\"blue\",\"blue\",\"blue\",\"blue\",\"blue\",\"blue\",\"blue\",\"blue\",\"blue\",\"blue\",\"blue\",\"blue\",\"blue\",\"blue\",\"blue\",\"blue\",\"blue\",\"blue\",\"blue\",\"blue\",\"blue\",\"blue\",\"blue\",\"blue\",\"blue\",\"blue\",\"blue\",\"blue\",\"blue\",\"blue\",\"blue\",\"blue\",\"blue\",\"blue\",\"blue\",\"blue\",\"blue\",\"blue\",\"blue\",\"blue\",\"blue\",\"blue\",\"blue\",\"blue\",\"blue\",\"blue\",\"blue\",\"blue\",\"blue\",\"blue\",\"blue\",\"blue\",\"blue\",\"blue\",\"blue\",\"blue\",\"blue\",\"blue\",\"blue\",\"blue\",\"blue\",\"blue\",\"blue\",\"blue\",\"blue\",\"blue\",\"blue\",\"blue\",\"blue\",\"blue\",\"blue\",\"blue\",\"blue\",\"blue\",\"blue\",\"blue\",\"blue\",\"blue\",\"blue\",\"blue\",\"blue\",\"blue\",\"blue\",\"blue\",\"blue\",\"blue\",\"blue\",\"blue\",\"blue\",\"blue\",\"blue\",\"blue\",\"blue\",\"blue\",\"blue\",\"blue\",\"blue\",\"blue\",\"blue\",\"blue\",\"blue\",\"blue\",\"blue\",\"blue\",\"blue\",\"blue\",\"blue\",\"blue\",\"blue\",\"blue\",\"blue\",\"blue\",\"blue\",\"blue\",\"blue\",\"blue\",\"blue\",\"blue\",\"blue\",\"blue\",\"blue\",\"blue\",\"blue\",\"blue\",\"blue\",\"blue\",\"blue\",\"blue\",\"blue\",\"blue\",\"blue\",\"blue\",\"blue\",\"blue\",\"blue\",\"blue\",\"blue\",\"blue\",\"blue\",\"blue\",\"blue\",\"blue\",\"blue\",\"blue\",\"blue\",\"blue\",\"blue\",\"blue\",\"blue\",\"blue\",\"blue\",\"blue\",\"blue\",\"blue\",\"blue\",\"blue\",\"blue\",\"blue\",\"blue\",\"blue\",\"blue\",\"blue\",\"blue\",\"blue\",\"blue\",\"blue\",\"blue\",\"blue\",\"blue\",\"blue\",\"blue\",\"blue\",\"blue\",\"blue\",\"blue\",\"blue\",\"blue\",\"blue\",\"blue\",\"blue\",\"blue\",\"blue\",\"blue\",\"blue\",\"blue\",\"blue\",\"blue\",\"blue\",\"blue\",\"blue\",\"blue\",\"blue\",\"blue\",\"blue\",\"blue\",\"blue\",\"blue\",\"blue\",\"blue\",\"blue\",\"blue\",\"blue\",\"blue\",\"blue\",\"blue\",\"blue\",\"blue\",\"blue\",\"blue\",\"blue\",\"blue\",\"blue\",\"blue\",\"blue\",\"blue\",\"blue\",\"blue\",\"blue\",\"blue\",\"blue\",\"blue\",\"blue\",\"blue\",\"blue\",\"blue\",\"blue\",\"blue\",\"blue\",\"blue\",\"blue\",\"blue\",\"blue\",\"blue\",\"blue\",\"blue\",\"blue\",\"blue\",\"blue\",\"blue\",\"blue\",\"blue\",\"blue\",\"blue\",\"blue\",\"blue\",\"blue\",\"blue\",\"blue\",\"blue\",\"blue\",\"blue\",\"blue\",\"blue\",\"blue\",\"blue\",\"blue\",\"blue\",\"blue\",\"blue\",\"blue\",\"blue\",\"blue\",\"blue\",\"blue\",\"blue\",\"blue\",\"blue\",\"blue\",\"blue\",\"blue\",\"blue\",\"blue\",\"blue\",\"blue\",\"blue\",\"blue\",\"blue\",\"blue\",\"blue\",\"blue\",\"blue\",\"blue\",\"blue\",\"blue\",\"blue\",\"blue\",\"blue\",\"blue\",\"blue\",\"blue\",\"blue\",\"blue\",\"blue\",\"blue\",\"blue\",\"blue\",\"blue\",\"blue\",\"blue\",\"blue\",\"blue\",\"blue\",\"blue\",\"blue\",\"blue\",\"blue\",\"blue\",\"blue\",\"blue\",\"blue\",\"blue\",\"blue\",\"blue\",\"blue\",\"blue\",\"blue\",\"blue\",\"blue\",\"blue\",\"blue\",\"blue\",\"blue\",\"blue\",\"blue\",\"blue\",\"blue\",\"blue\",\"blue\",\"blue\",\"blue\",\"blue\",\"blue\",\"blue\",\"blue\",\"blue\",\"blue\",\"blue\",\"blue\",\"blue\",\"blue\",\"blue\",\"blue\",\"blue\",\"blue\",\"blue\",\"blue\",\"blue\",\"blue\",\"blue\",\"blue\",\"blue\",\"blue\",\"blue\",\"blue\",\"blue\",\"blue\",\"blue\",\"blue\",\"blue\",\"blue\",\"blue\",\"blue\",\"blue\",\"blue\",\"blue\",\"blue\",\"blue\",\"blue\",\"blue\",\"blue\",\"blue\",\"blue\",\"blue\",\"blue\",\"blue\",\"blue\",\"blue\",\"blue\",\"blue\",\"blue\",\"blue\",\"blue\",\"blue\",\"blue\",\"blue\",\"blue\",\"blue\",\"blue\",\"blue\",\"blue\",\"blue\",\"blue\",\"blue\",\"blue\",\"blue\",\"blue\",\"blue\",\"blue\",\"blue\",\"blue\",\"blue\",\"blue\",\"blue\",\"blue\",\"blue\",\"blue\",\"blue\",\"blue\",\"blue\",\"blue\",\"blue\",\"blue\",\"blue\",\"blue\",\"blue\",\"blue\",\"blue\",\"blue\",\"blue\",\"blue\",\"blue\",\"blue\",\"blue\",\"blue\",\"blue\",\"blue\",\"blue\",\"blue\",\"blue\",\"blue\",\"blue\",\"blue\",\"blue\",\"blue\",\"blue\",\"blue\",\"blue\",\"blue\",\"blue\",\"blue\",\"blue\",\"blue\",\"blue\",\"blue\",\"blue\",\"blue\",\"blue\",\"blue\",\"blue\",\"blue\",\"blue\",\"blue\",\"blue\",\"blue\",\"blue\",\"blue\",\"blue\",\"blue\",\"blue\",\"blue\",\"blue\",\"blue\",\"blue\",\"blue\",\"blue\",\"blue\",\"blue\",\"blue\",\"blue\",\"blue\",\"blue\",\"blue\",\"blue\",\"blue\",\"blue\",\"blue\",\"blue\",\"blue\",\"blue\",\"blue\",\"blue\",\"blue\",\"blue\",\"blue\",\"blue\",\"blue\",\"blue\",\"blue\",\"blue\",\"blue\",\"blue\",\"blue\",\"blue\",\"blue\",\"blue\",\"blue\",\"blue\",\"blue\",\"blue\",\"blue\",\"blue\",\"blue\",\"blue\",\"blue\",\"blue\",\"blue\",\"blue\",\"blue\",\"blue\",\"blue\",\"blue\",\"blue\",\"blue\",\"blue\",\"blue\",\"blue\",\"blue\",\"blue\",\"blue\",\"blue\",\"blue\",\"blue\",\"blue\",\"blue\",\"blue\",\"blue\",\"blue\",\"blue\",\"blue\",\"blue\",\"blue\",\"blue\",\"blue\",\"blue\",\"blue\",\"blue\",\"blue\",\"blue\",\"blue\",\"blue\",\"blue\",\"blue\",\"blue\",\"blue\",\"blue\",\"blue\",\"blue\",\"blue\",\"blue\",\"blue\",\"blue\",\"blue\",\"blue\",\"blue\",\"blue\",\"blue\",\"blue\",\"blue\",\"blue\",\"blue\",\"blue\",\"blue\",\"blue\",\"blue\",\"blue\",\"blue\",\"blue\",\"blue\",\"blue\",\"blue\",\"blue\",\"blue\",\"blue\",\"blue\",\"blue\",\"blue\",\"blue\",\"blue\",\"blue\",\"blue\",\"blue\",\"blue\",\"blue\",\"blue\",\"blue\",\"blue\",\"blue\",\"blue\",\"blue\",\"blue\",\"blue\",\"blue\",\"blue\",\"blue\",\"blue\",\"blue\",\"blue\",\"blue\",\"blue\",\"blue\",\"blue\",\"blue\",\"blue\",\"blue\",\"blue\",\"blue\",\"blue\",\"blue\",\"blue\",\"blue\",\"blue\",\"blue\",\"blue\",\"blue\",\"blue\",\"blue\",\"blue\",\"blue\",\"blue\",\"blue\",\"blue\",\"blue\",\"blue\",\"blue\",\"blue\",\"blue\",\"blue\",\"blue\",\"blue\",\"blue\",\"blue\",\"blue\",\"blue\",\"blue\",\"blue\",\"blue\",\"blue\",\"blue\",\"blue\",\"blue\",\"blue\",\"blue\",\"blue\",\"blue\",\"blue\",\"blue\",\"blue\",\"blue\",\"blue\",\"blue\",\"blue\",\"blue\",\"blue\",\"blue\",\"blue\",\"blue\",\"blue\",\"blue\",\"blue\",\"blue\",\"blue\",\"blue\",\"blue\",\"blue\",\"blue\",\"blue\",\"blue\",\"blue\",\"blue\",\"blue\",\"blue\",\"blue\",\"blue\",\"blue\",\"blue\",\"blue\",\"blue\",\"blue\",\"blue\",\"blue\",\"blue\",\"blue\",\"blue\",\"blue\",\"blue\",\"blue\",\"blue\",\"blue\",\"blue\",\"blue\",\"blue\",\"blue\",\"blue\",\"blue\",\"blue\",\"blue\",\"blue\",\"blue\",\"blue\",\"blue\",\"blue\",\"blue\",\"blue\",\"blue\",\"blue\",\"blue\",\"blue\",\"blue\",\"blue\",\"blue\",\"blue\",\"blue\",\"blue\",\"blue\",\"blue\",\"blue\",\"blue\",\"blue\",\"blue\",\"blue\",\"blue\",\"blue\",\"blue\",\"blue\",\"blue\",\"blue\",\"blue\",\"blue\",\"blue\",\"blue\",\"blue\",\"blue\",\"blue\",\"blue\",\"blue\",\"blue\",\"blue\",\"blue\",\"blue\",\"blue\",\"blue\",\"blue\",\"blue\",\"blue\",\"blue\",\"blue\",\"blue\",\"blue\",\"blue\",\"blue\",\"blue\",\"blue\",\"blue\",\"blue\",\"blue\",\"blue\",\"blue\",\"blue\",\"blue\",\"blue\",\"blue\",\"blue\",\"blue\",\"blue\",\"blue\",\"blue\"],\"token\":[\"?\",\"the\",\"what\",\"is\",\"a\",\"i\",\"to\",\"in\",\"how\",\"of\",\"do\",\"are\",\"and\",\"for\",\",\",\"can\",\"you\",\"why\",\"it\",\"my\",\"does\",\"best\",\"on\",\".\",\"or\",\"have\",\"if\",\"be\",\"with\",\"which\",\"that\",\"an\",\"some\",\"should\",\"'s\",\"get\",\"from\",\")\",\"your\",\"(\",\"like\",\"when\",\"at\",\"india\",\"good\",\"who\",\"there\",\"will\",\"as\",\"would\",\"people\",\"not\",\"n't\",\"about\",\"``\",\"''\",\"between\",\"one\",\"did\",\"any\",\"we\",\"me\",\"where\",\"most\",\"was\",\"by\",\"make\",\"so\",\"they\",\"this\",\"am\",\"after\",\"way\",\":\",\"has\",\"use\",\"much\",\"difference\",\"time\",\"life\",\"their\",\"know\",\"work\",\"many\",\"but\",\"than\",\"more\",\"all\",\"want\",\"quora\",\"someone\",\"learn\",\"find\",\"other\",\"think\",\"new\",\"better\",\"job\",\"indian\",\"out\",\"money\",\"mean\",\"become\",\"ever\",\"world\",\"without\",\"he\",\"start\",\"take\",\"us\",\"up\",\"first\",\"feel\",\"year\",\"into\",\"go\",\"online\",\"used\",\"engineering\",\"could\",\"love\",\"'m\",\"person\",\"were\",\"possible\",\"day\",\"buy\",\"things\",\"being\",\"need\",\"business\",\"using\",\"them\",\"really\",\"trump\",\"girl\",\"'\",\"her\",\"his\",\"years\",\"different\",\"long\",\"phone\",\"google\",\"company\",\"been\",\"old\",\"only\",\"no\",\"now\",\"just\",\"2\",\"app\",\"college\",\"facebook\",\"number\",\"free\",\"books\",\"2016\",\"movie\",\"still\",\"its\",\"account\",\"ca\",\"women\",\"book\",\"english\",\"while\",\"she\",\"had\",\"change\",\"ways\",\"computer\",\"thing\",\"examples\",\"data\",\"country\",\"over\",\"see\",\"android\",\"help\",\"science\",\"live\",\"school\",\"software\",\"before\",\"&\",\"language\",\"same\",\"going\",\"bad\",\"sex\",\"student\",\"stop\",\"university\",\"happen\",\"back\",\"made\",\"3\",\"1\",\"study\",\"our\",\"two\",\"through\",\"system\",\"name\",\"say\",\"real\",\"during\",\"prepare\",\"water\",\"iphone\",\"website\",\"top\",\"car\",\"questions\",\"important\",\"men\",\"give\",\"getting\",\"anyone\",\"companies\",\"high\",\"black\",\"card\",\"read\",\"programming\",\"war\",\"learning\",\"10\",\"5\",\"\\u2019\",\"exam\",\"[\",\"then\",\"]\",\"even\",\"movies\",\"china\",\"mobile\",\"cost\",\"donald\",\"right\",\"doing\",\"friend\",\"him\",\"working\",\"under\",\"come\",\"president\",\"own\",\"question\",\"career\",\"experience\",\"bank\",\"true\",\"friends\",\"guy\",\"word\",\"hair\",\"home\",\"video\",\"having\",\"look\",\"usa\",\"tell\",\"man\",\"social\",\"web\",\"interview\",\"very\",\"engineer\",\"write\",\"game\",\"government\",\"weight\",\"earth\",\"girls\",\"service\",\"food\",\"students\",\"play\",\"countries\",\"human\",\"place\",\"future\",\"improve\",\"off\",\"big\",\"days\",\"happens\",\"'ve\",\"done\",\"class\",\"eat\",\"tv\",\"process\",\"got\",\"state\",\"average\",\"s\",\"meaning\",\"relationship\",\"music\",\"too\",\"math\",\"create\",\"instagram\",\"every\",\"history\",\"last\",\"pay\",\"windows\",\"4\",\"white\",\"watch\",\"%\",\"salary\",\"body\",\"power\",\"safe\",\"clinton\",\"ask\",\"age\",\"laptop\",\"makes\",\"$\",\"each\",\"hard\",\"lose\",\"american\",\"delhi\",\"youtube\",\"energy\",\"worth\",\"earn\",\"states\",\"against\",\"win\",\"girlfriend\",\"great\",\"keep\",\"test\",\"god\",\"hillary\",\"compare\",\"market\",\"differences\",\"making\",\"considered\",\"something\",\"answer\",\"apply\",\"myself\",\"mba\",\"tips\",\"around\",\"never\",\"next\",\"always\",\"mechanical\",\"another\",\"united\",\"java\",\"increase\",\"c\",\"such\",\"course\",\"jobs\",\"download\",\"song\",\"parents\",\"kind\",\"internet\",\"common\",\"review\",\"woman\",\"code\",\"design\",\"per\",\"employees\",\"end\",\"development\",\"chinese\",\"series\",\"score\",\"interesting\",\"degree\",\"month\",\"travel\",\"show\",\"management\",\"months\",\"able\",\"believe\",\"open\",\"program\",\"living\",\"looking\",\"because\",\"6\",\"type\",\"bangalore\",\"light\",\"favorite\",\"america\",\"today\",\"actually\",\"major\",\"family\",\"marketing\",\"pakistan\",\"universities\",\"technology\",\"law\",\"call\",\"affect\",\"whatsapp\",\"idea\",\"{\",\"build\",\"}\",\"choose\",\"cat\",\"current\",\"support\",\"problem\",\"popular\",\"speed\",\"air\",\"rid\",\"deal\",\"visa\",\"join\",\"run\",\"games\",\"space\",\"down\",\"both\",\"well\",\"city\",\"2017\",\"house\",\"exist\",\"services\",\"available\",\"civil\",\"u.s.\",\"site\",\"culture\",\"also\",\"normal\",\"given\",\"wrong\",\"apple\",\"7\",\"small\",\"order\",\"date\",\"wear\",\"apps\",\"places\",\"songs\",\"differ\",\"project\",\"product\",\"international\",\"x\",\"behind\",\"main\",\"research\",\"happened\",\"boyfriend\",\"media\",\"public\",\"canada\",\"value\",\"jee\",\"cause\",\"reason\",\"uk\",\"education\",\"email\",\"ms\",\"sleep\",\"-\",\"amazon\",\"instead\",\"these\",\"benefits\",\"startup\",\"less\",\"iit\",\"part\",\"list\",\"based\",\"die\",\"medical\",\"websites\",\"etc\",\"physics\",\"skills\",\"child\",\"form\",\"health\",\"causes\",\"called\",\"times\",\"visit\",\"hate\",\"level\",\"worst\",\"police\",\"legal\",\"control\",\"terms\",\"stay\",\"products\",\"mumbai\",\"post\",\"facts\",\"mind\",\"face\",\"application\",\"rate\",\"sites\",\"field\",\"file\",\"required\",\"humans\",\"sell\",\"seen\",\"story\",\"machine\",\"private\",\"dog\",\"notes\",\"stock\",\"modi\",\"biggest\",\"asked\",\"invest\",\"children\",\"point\",\"writing\",\"move\",\"night\",\"problems\",\"gate\",\"put\",\"'re\",\"successful\",\"single\",\"anything\",\"indians\",\"others\",\"remove\",\"compared\",\"theory\",\"death\",\"ideas\",\"talk\",\"marks\",\"answers\",\"plan\",\"similar\",\"sentence\",\"low\",\"group\",\"institute\",\"side\",\"hours\",\"again\",\"effects\",\"/math\",\"coaching\",\"australia\",\"solve\",\"advantages\",\"correct\",\"function\",\"tax\",\"lot\",\"center\",\"famous\",\"send\",\"germany\",\"guys\",\"add\",\"set\",\"offer\",\"south\",\"force\",\"credit\",\"foreign\",\"universe\",\"information\",\"fall\",\"period\",\"daily\",\"says\",\"developer\",\"training\",\"full\",\"videos\",\"area\",\"industry\",\"oil\",\"model\",\"general\",\"studying\",\"majors\",\"star\",\"colleges\",\"graduate\",\"size\",\"yourself\",\"drive\",\"python\",\"2015\",\"blood\",\"near\",\"search\",\"enough\",\"price\",\"kill\",\"quality\",\"words\",\"8\",\"cons\",\"marriage\",\"found\",\"often\",\"\\u201d\",\"leave\",\"pros\",\"fast\",\"grow\",\"courses\",\"started\",\"week\",\"fix\",\"related\",\"purpose\",\"network\",\"types\",\"russia\",\"advice\",\"those\",\"password\",\"follow\",\"taking\",\"married\",\"mass\",\"male\",\"store\",\"turn\",\"party\",\"left\",\"brain\",\"rs\",\"\\u201c\",\"numbers\",\"100\",\"500\",\"female\",\"share\",\"digital\",\"team\",\"1000\",\"effective\",\"economy\",\"term\",\"text\",\"delete\",\"election\",\"cell\",\"pc\",\"master\",\"office\",\"matter\",\"few\",\"role\",\"since\",\"preparation\",\"fat\",\"second\",\"page\",\"dark\",\"short\",\"said\",\"happy\",\"red\",\"line\",\"away\",\"security\",\"options\",\"easy\",\"effect\",\"three\",\"view\",\"admission\",\"must\",\"chemical\",\"source\",\"lost\",\"try\",\"dream\",\"understand\",\"care\",\"exams\",\"convert\",\"americans\",\"past\",\"electrical\",\"dogs\",\"profile\",\"alcohol\",\"exactly\",\"north\",\"ios\",\"develop\",\"paper\",\"japanese\",\"investment\",\"tech\",\"difficult\",\"hotel\",\"check\",\"beautiful\",\"personal\",\"calculate\",\"japan\",\"uber\",\"letter\",\"eating\",\"religion\",\"20\",\"explain\",\"languages\",\"c++\",\"b\",\"hyderabad\",\"topics\",\"british\",\"twitter\",\"basic\",\"news\",\"california\",\"self\",\"green\",\"political\",\"transfer\",\"wife\",\"12\",\"fight\",\"rank\",\"drug\",\"let\",\"porn\",\"film\",\"scope\",\"t\",\"army\",\"pune\",\"national\",\"once\",\"contact\",\"note\",\"known\",\"avoid\",\"boy\",\"gain\",\"please\",\"address\",\"wants\",\"reasons\",\"paid\",\"obama\",\"engine\",\"europe\",\"ex\",\"currently\",\"bollywood\",\"samsung\",\"smart\",\"everyone\",\"season\",\"phd\",\"income\",\"officer\",\"chances\",\"reduce\",\"option\",\"overcome\",\"everything\",\"across\",\"reading\",\"military\",\"else\",\"users\",\"meet\",\"15\",\"solar\",\"message\",\"charge\",\"knowledge\",\"due\",\"sound\",\"balance\",\"microsoft\",\"!\",\"internship\",\"faster\",\"photos\",\"pregnant\",\"sim\",\"yes\",\"moon\",\"taken\",\"financial\",\"hindi\",\"disadvantages\",\"pass\",\"animals\",\"messages\",\"gay\",\"/\",\"hack\",\"healthy\",\"pain\",\"systems\",\"amount\",\"color\",\"interested\",\"singapore\",\"ias\",\"natural\",\"skin\",\"screen\",\"chance\",\"names\",\"special\",\"height\",\"board\",\"case\",\"structure\",\"passport\",\"break\",\"pro\",\"created\",\"professional\",\"drink\",\"already\",\"percentage\",\"useful\",\"french\",\"crush\",\"sun\",\"dating\",\"likes\",\"presidential\",\"battery\",\"interest\",\"access\",\"coming\",\"provide\",\"muslim\",\"starting\",\"modern\",\"linux\",\"recover\",\"camera\",\"german\",\"expect\",\"vote\",\"muslims\",\"blue\",\"least\",\"install\",\"train\",\"studies\",\"solution\",\"thinking\",\"following\",\"negative\",\"mother\",\"jio\",\"mac\",\"user\",\"spend\",\"prime\",\"written\",\"buying\",\"feeling\",\"running\",\"football\",\"gift\",\"cold\",\"changed\",\"pressure\",\"allowed\",\"character\",\"brand\",\"rich\",\"snapchat\",\"resources\",\"within\",\"speak\",\"impact\",\"islam\",\"yet\",\"non\",\"marry\",\"eyes\",\"society\",\"bill\",\"likely\",\"though\",\"determine\",\"shows\",\"fake\",\"save\",\"capital\",\"final\",\"gmail\",\"picture\",\"laws\",\"middle\",\"applications\",\"nuclear\",\"chemistry\",\"young\",\"kids\",\"prefer\",\"device\",\"iq\",\"father\",\"views\",\"galaxy\",\"manager\",\"doctor\",\"personality\",\"hand\",\"greatest\",\"currency\",\"inside\",\"illegal\",\"stories\",\"strategy\",\"recruit\",\"pursue\",\"cs\",\"abroad\",\"gold\",\"projects\",\"consider\",\"works\",\"blog\",\"crack\",\"memory\",\"example\",\"neet\",\"growth\",\"schools\",\"necessary\",\"husband\",\"insurance\",\"alone\",\"economics\",\"depression\",\"higher\",\"dead\",\"b.tech\",\"30\",\"cse\",\"loss\",\"among\",\"files\",\"deleted\",\"easiest\",\"macbook\",\"together\",\"art\",\"wifi\",\"vs\",\"gas\",\"suggest\",\"late\",\"intelligence\",\"method\",\"gre\",\"head\",\"minimum\",\"version\",\"tools\",\"easily\",\"chennai\",\"cars\",\"suitable\"],\"x\":{\"__ndarray__\":\"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\",\"dtype\":\"float32\",\"shape\":[1000]},\"y\":{\"__ndarray__\":\"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\",\"dtype\":\"float32\",\"shape\":[1000]}},\"selected\":{\"id\":\"1048\",\"type\":\"Selection\"},\"selection_policy\":{\"id\":\"1049\",\"type\":\"UnionRenderers\"}},\"id\":\"1002\",\"type\":\"ColumnDataSource\"},{\"attributes\":{},\"id\":\"1025\",\"type\":\"SaveTool\"},{\"attributes\":{\"dimension\":1,\"ticker\":{\"id\":\"1018\",\"type\":\"BasicTicker\"}},\"id\":\"1021\",\"type\":\"Grid\"},{\"attributes\":{\"data_source\":{\"id\":\"1002\",\"type\":\"ColumnDataSource\"},\"glyph\":{\"id\":\"1036\",\"type\":\"Scatter\"},\"hover_glyph\":null,\"muted_glyph\":null,\"nonselection_glyph\":{\"id\":\"1037\",\"type\":\"Scatter\"},\"selection_glyph\":null,\"view\":{\"id\":\"1039\",\"type\":\"CDSView\"}},\"id\":\"1038\",\"type\":\"GlyphRenderer\"},{\"attributes\":{\"fill_alpha\":{\"value\":0.1},\"fill_color\":{\"value\":\"#1f77b4\"},\"line_alpha\":{\"value\":0.1},\"line_color\":{\"value\":\"#1f77b4\"},\"size\":{\"units\":\"screen\",\"value\":10},\"x\":{\"field\":\"x\"},\"y\":{\"field\":\"y\"}},\"id\":\"1037\",\"type\":\"Scatter\"},{\"attributes\":{\"ticker\":{\"id\":\"1013\",\"type\":\"BasicTicker\"}},\"id\":\"1016\",\"type\":\"Grid\"},{\"attributes\":{\"formatter\":{\"id\":\"1044\",\"type\":\"BasicTickFormatter\"},\"ticker\":{\"id\":\"1018\",\"type\":\"BasicTicker\"}},\"id\":\"1017\",\"type\":\"LinearAxis\"},{\"attributes\":{},\"id\":\"1018\",\"type\":\"BasicTicker\"},{\"attributes\":{\"fill_alpha\":{\"value\":0.25},\"fill_color\":{\"field\":\"color\"},\"line_alpha\":{\"value\":0.25},\"line_color\":{\"field\":\"color\"},\"size\":{\"units\":\"screen\",\"value\":10},\"x\":{\"field\":\"x\"},\"y\":{\"field\":\"y\"}},\"id\":\"1036\",\"type\":\"Scatter\"}],\"root_ids\":[\"1003\"]},\"title\":\"Bokeh Application\",\"version\":\"1.1.0\"}};\n",
              "  var render_items = [{\"docid\":\"f00d010a-56a0-44a5-8004-550534e0999d\",\"roots\":{\"1003\":\"593bcf24-189d-4eab-93e7-5c8de1b79cb6\"}}];\n",
              "  root.Bokeh.embed.embed_items_notebook(docs_json, render_items);\n",
              "\n",
              "  }\n",
              "  if (root.Bokeh !== undefined) {\n",
              "    embed_document(root);\n",
              "  } else {\n",
              "    var attempts = 0;\n",
              "    var timer = setInterval(function(root) {\n",
              "      if (root.Bokeh !== undefined) {\n",
              "        embed_document(root);\n",
              "        clearInterval(timer);\n",
              "      }\n",
              "      attempts++;\n",
              "      if (attempts > 100) {\n",
              "        console.log(\"Bokeh: ERROR: Unable to run BokehJS code because BokehJS library is missing\");\n",
              "        clearInterval(timer);\n",
              "      }\n",
              "    }, 10, root)\n",
              "  }\n",
              "})(window);"
            ],
            "application/vnd.bokehjs_exec.v0+json": ""
          },
          "metadata": {
            "tags": [],
            "application/vnd.bokehjs_exec.v0+json": {
              "id": "1003"
            }
          }
        },
        {
          "output_type": "execute_result",
          "data": {
            "text/html": [
              "<div style=\"display: table;\"><div style=\"display: table-row;\"><div style=\"display: table-cell;\"><b title=\"bokeh.plotting.figure.Figure\">Figure</b>(</div><div style=\"display: table-cell;\">id&nbsp;=&nbsp;'1003', <span id=\"1106\" style=\"cursor: pointer;\">&hellip;)</span></div></div><div class=\"1105\" style=\"display: none;\"><div style=\"display: table-cell;\"></div><div style=\"display: table-cell;\">above&nbsp;=&nbsp;[],</div></div><div class=\"1105\" style=\"display: none;\"><div style=\"display: table-cell;\"></div><div style=\"display: table-cell;\">align&nbsp;=&nbsp;'start',</div></div><div class=\"1105\" style=\"display: none;\"><div style=\"display: table-cell;\"></div><div style=\"display: table-cell;\">aspect_ratio&nbsp;=&nbsp;None,</div></div><div class=\"1105\" style=\"display: none;\"><div style=\"display: table-cell;\"></div><div style=\"display: table-cell;\">aspect_scale&nbsp;=&nbsp;1,</div></div><div class=\"1105\" style=\"display: none;\"><div style=\"display: table-cell;\"></div><div style=\"display: table-cell;\">background&nbsp;=&nbsp;None,</div></div><div class=\"1105\" style=\"display: none;\"><div style=\"display: table-cell;\"></div><div style=\"display: table-cell;\">background_fill_alpha&nbsp;=&nbsp;{'value': 1.0},</div></div><div class=\"1105\" style=\"display: none;\"><div style=\"display: table-cell;\"></div><div style=\"display: table-cell;\">background_fill_color&nbsp;=&nbsp;{'value': '#ffffff'},</div></div><div class=\"1105\" style=\"display: none;\"><div style=\"display: table-cell;\"></div><div style=\"display: table-cell;\">below&nbsp;=&nbsp;[LinearAxis(id='1012', ...)],</div></div><div class=\"1105\" style=\"display: none;\"><div style=\"display: table-cell;\"></div><div style=\"display: table-cell;\">border_fill_alpha&nbsp;=&nbsp;{'value': 1.0},</div></div><div class=\"1105\" style=\"display: none;\"><div style=\"display: table-cell;\"></div><div style=\"display: table-cell;\">border_fill_color&nbsp;=&nbsp;{'value': '#ffffff'},</div></div><div class=\"1105\" style=\"display: none;\"><div style=\"display: table-cell;\"></div><div style=\"display: table-cell;\">center&nbsp;=&nbsp;[Grid(id='1016', ...), Grid(id='1021', ...)],</div></div><div class=\"1105\" style=\"display: none;\"><div style=\"display: table-cell;\"></div><div style=\"display: table-cell;\">css_classes&nbsp;=&nbsp;[],</div></div><div class=\"1105\" style=\"display: none;\"><div style=\"display: table-cell;\"></div><div style=\"display: table-cell;\">disabled&nbsp;=&nbsp;False,</div></div><div class=\"1105\" style=\"display: none;\"><div style=\"display: table-cell;\"></div><div style=\"display: table-cell;\">extra_x_ranges&nbsp;=&nbsp;{},</div></div><div class=\"1105\" style=\"display: none;\"><div style=\"display: table-cell;\"></div><div style=\"display: table-cell;\">extra_y_ranges&nbsp;=&nbsp;{},</div></div><div class=\"1105\" style=\"display: none;\"><div style=\"display: table-cell;\"></div><div style=\"display: table-cell;\">frame_height&nbsp;=&nbsp;None,</div></div><div class=\"1105\" style=\"display: none;\"><div style=\"display: table-cell;\"></div><div style=\"display: table-cell;\">frame_width&nbsp;=&nbsp;None,</div></div><div class=\"1105\" style=\"display: none;\"><div style=\"display: table-cell;\"></div><div style=\"display: table-cell;\">height&nbsp;=&nbsp;None,</div></div><div class=\"1105\" style=\"display: none;\"><div style=\"display: table-cell;\"></div><div style=\"display: table-cell;\">height_policy&nbsp;=&nbsp;'auto',</div></div><div class=\"1105\" style=\"display: none;\"><div style=\"display: table-cell;\"></div><div style=\"display: table-cell;\">hidpi&nbsp;=&nbsp;True,</div></div><div class=\"1105\" style=\"display: none;\"><div style=\"display: table-cell;\"></div><div style=\"display: table-cell;\">js_event_callbacks&nbsp;=&nbsp;{},</div></div><div class=\"1105\" style=\"display: none;\"><div style=\"display: table-cell;\"></div><div style=\"display: table-cell;\">js_property_callbacks&nbsp;=&nbsp;{},</div></div><div class=\"1105\" style=\"display: none;\"><div style=\"display: table-cell;\"></div><div style=\"display: table-cell;\">left&nbsp;=&nbsp;[LinearAxis(id='1017', ...)],</div></div><div class=\"1105\" style=\"display: none;\"><div style=\"display: table-cell;\"></div><div style=\"display: table-cell;\">lod_factor&nbsp;=&nbsp;10,</div></div><div class=\"1105\" style=\"display: none;\"><div style=\"display: table-cell;\"></div><div style=\"display: table-cell;\">lod_interval&nbsp;=&nbsp;300,</div></div><div class=\"1105\" style=\"display: none;\"><div style=\"display: table-cell;\"></div><div style=\"display: table-cell;\">lod_threshold&nbsp;=&nbsp;2000,</div></div><div class=\"1105\" style=\"display: none;\"><div style=\"display: table-cell;\"></div><div style=\"display: table-cell;\">lod_timeout&nbsp;=&nbsp;500,</div></div><div class=\"1105\" style=\"display: none;\"><div style=\"display: table-cell;\"></div><div style=\"display: table-cell;\">margin&nbsp;=&nbsp;(0, 0, 0, 0),</div></div><div class=\"1105\" style=\"display: none;\"><div style=\"display: table-cell;\"></div><div style=\"display: table-cell;\">match_aspect&nbsp;=&nbsp;False,</div></div><div class=\"1105\" style=\"display: none;\"><div style=\"display: table-cell;\"></div><div style=\"display: table-cell;\">max_height&nbsp;=&nbsp;None,</div></div><div class=\"1105\" style=\"display: none;\"><div style=\"display: table-cell;\"></div><div style=\"display: table-cell;\">max_width&nbsp;=&nbsp;None,</div></div><div class=\"1105\" style=\"display: none;\"><div style=\"display: table-cell;\"></div><div style=\"display: table-cell;\">min_border&nbsp;=&nbsp;5,</div></div><div class=\"1105\" style=\"display: none;\"><div style=\"display: table-cell;\"></div><div style=\"display: table-cell;\">min_border_bottom&nbsp;=&nbsp;None,</div></div><div class=\"1105\" style=\"display: none;\"><div style=\"display: table-cell;\"></div><div style=\"display: table-cell;\">min_border_left&nbsp;=&nbsp;None,</div></div><div class=\"1105\" style=\"display: none;\"><div style=\"display: table-cell;\"></div><div style=\"display: table-cell;\">min_border_right&nbsp;=&nbsp;None,</div></div><div class=\"1105\" style=\"display: none;\"><div style=\"display: table-cell;\"></div><div style=\"display: table-cell;\">min_border_top&nbsp;=&nbsp;None,</div></div><div class=\"1105\" style=\"display: none;\"><div style=\"display: table-cell;\"></div><div style=\"display: table-cell;\">min_height&nbsp;=&nbsp;None,</div></div><div class=\"1105\" style=\"display: none;\"><div style=\"display: table-cell;\"></div><div style=\"display: table-cell;\">min_width&nbsp;=&nbsp;None,</div></div><div class=\"1105\" style=\"display: none;\"><div style=\"display: table-cell;\"></div><div style=\"display: table-cell;\">name&nbsp;=&nbsp;None,</div></div><div class=\"1105\" style=\"display: none;\"><div style=\"display: table-cell;\"></div><div style=\"display: table-cell;\">outline_line_alpha&nbsp;=&nbsp;{'value': 1.0},</div></div><div class=\"1105\" style=\"display: none;\"><div style=\"display: table-cell;\"></div><div style=\"display: table-cell;\">outline_line_cap&nbsp;=&nbsp;'butt',</div></div><div class=\"1105\" style=\"display: none;\"><div style=\"display: table-cell;\"></div><div style=\"display: table-cell;\">outline_line_color&nbsp;=&nbsp;{'value': '#e5e5e5'},</div></div><div class=\"1105\" style=\"display: none;\"><div style=\"display: table-cell;\"></div><div style=\"display: table-cell;\">outline_line_dash&nbsp;=&nbsp;[],</div></div><div class=\"1105\" style=\"display: none;\"><div style=\"display: table-cell;\"></div><div style=\"display: table-cell;\">outline_line_dash_offset&nbsp;=&nbsp;0,</div></div><div class=\"1105\" style=\"display: none;\"><div style=\"display: table-cell;\"></div><div style=\"display: table-cell;\">outline_line_join&nbsp;=&nbsp;'bevel',</div></div><div class=\"1105\" style=\"display: none;\"><div style=\"display: table-cell;\"></div><div style=\"display: table-cell;\">outline_line_width&nbsp;=&nbsp;{'value': 1},</div></div><div class=\"1105\" style=\"display: none;\"><div style=\"display: table-cell;\"></div><div style=\"display: table-cell;\">output_backend&nbsp;=&nbsp;'canvas',</div></div><div class=\"1105\" style=\"display: none;\"><div style=\"display: table-cell;\"></div><div style=\"display: table-cell;\">plot_height&nbsp;=&nbsp;400,</div></div><div class=\"1105\" style=\"display: none;\"><div style=\"display: table-cell;\"></div><div style=\"display: table-cell;\">plot_width&nbsp;=&nbsp;600,</div></div><div class=\"1105\" style=\"display: none;\"><div style=\"display: table-cell;\"></div><div style=\"display: table-cell;\">renderers&nbsp;=&nbsp;[GlyphRenderer(id='1038', ...)],</div></div><div class=\"1105\" style=\"display: none;\"><div style=\"display: table-cell;\"></div><div style=\"display: table-cell;\">right&nbsp;=&nbsp;[],</div></div><div class=\"1105\" style=\"display: none;\"><div style=\"display: table-cell;\"></div><div style=\"display: table-cell;\">sizing_mode&nbsp;=&nbsp;None,</div></div><div class=\"1105\" style=\"display: none;\"><div style=\"display: table-cell;\"></div><div style=\"display: table-cell;\">subscribed_events&nbsp;=&nbsp;[],</div></div><div class=\"1105\" style=\"display: none;\"><div style=\"display: table-cell;\"></div><div style=\"display: table-cell;\">tags&nbsp;=&nbsp;[],</div></div><div class=\"1105\" style=\"display: none;\"><div style=\"display: table-cell;\"></div><div style=\"display: table-cell;\">title&nbsp;=&nbsp;Title(id='1042', ...),</div></div><div class=\"1105\" style=\"display: none;\"><div style=\"display: table-cell;\"></div><div style=\"display: table-cell;\">title_location&nbsp;=&nbsp;'above',</div></div><div class=\"1105\" style=\"display: none;\"><div style=\"display: table-cell;\"></div><div style=\"display: table-cell;\">toolbar&nbsp;=&nbsp;Toolbar(id='1028', ...),</div></div><div class=\"1105\" style=\"display: none;\"><div style=\"display: table-cell;\"></div><div style=\"display: table-cell;\">toolbar_location&nbsp;=&nbsp;'right',</div></div><div class=\"1105\" style=\"display: none;\"><div style=\"display: table-cell;\"></div><div style=\"display: table-cell;\">toolbar_sticky&nbsp;=&nbsp;True,</div></div><div class=\"1105\" style=\"display: none;\"><div style=\"display: table-cell;\"></div><div style=\"display: table-cell;\">visible&nbsp;=&nbsp;True,</div></div><div class=\"1105\" style=\"display: none;\"><div style=\"display: table-cell;\"></div><div style=\"display: table-cell;\">width&nbsp;=&nbsp;None,</div></div><div class=\"1105\" style=\"display: none;\"><div style=\"display: table-cell;\"></div><div style=\"display: table-cell;\">width_policy&nbsp;=&nbsp;'auto',</div></div><div class=\"1105\" style=\"display: none;\"><div style=\"display: table-cell;\"></div><div style=\"display: table-cell;\">x_range&nbsp;=&nbsp;DataRange1d(id='1004', ...),</div></div><div class=\"1105\" style=\"display: none;\"><div style=\"display: table-cell;\"></div><div style=\"display: table-cell;\">x_scale&nbsp;=&nbsp;LinearScale(id='1008', ...),</div></div><div class=\"1105\" style=\"display: none;\"><div style=\"display: table-cell;\"></div><div style=\"display: table-cell;\">y_range&nbsp;=&nbsp;DataRange1d(id='1006', ...),</div></div><div class=\"1105\" style=\"display: none;\"><div style=\"display: table-cell;\"></div><div style=\"display: table-cell;\">y_scale&nbsp;=&nbsp;LinearScale(id='1010', ...))</div></div></div>\n",
              "<script>\n",
              "(function() {\n",
              "  var expanded = false;\n",
              "  var ellipsis = document.getElementById(\"1106\");\n",
              "  ellipsis.addEventListener(\"click\", function() {\n",
              "    var rows = document.getElementsByClassName(\"1105\");\n",
              "    for (var i = 0; i < rows.length; i++) {\n",
              "      var el = rows[i];\n",
              "      el.style.display = expanded ? \"none\" : \"table-row\";\n",
              "    }\n",
              "    ellipsis.innerHTML = expanded ? \"&hellip;)\" : \"&lsaquo;&lsaquo;&lsaquo;\";\n",
              "    expanded = !expanded;\n",
              "  });\n",
              "})();\n",
              "</script>\n"
            ],
            "text/plain": [
              "Figure(id='1003', ...)"
            ]
          },
          "metadata": {
            "tags": []
          },
          "execution_count": 50
        }
      ]
    },
    {
      "metadata": {
        "id": "VOIU8uXnSItf",
        "colab_type": "text"
      },
      "cell_type": "markdown",
      "source": [
        "### TSNE\n",
        "\n",
        "Более интересный и сложный (нелинейный) метод для визуализации высокоразмерных пространств - TSNE. Подробно посмотреть на него можно [здесь](https://distill.pub/2016/misread-tsne/) (ещё более красивые картинки!).\n",
        "\n",
        "**Задание** Как и с PCA - воспользуйтесь TSNE из sklearn и нормируйте + центрируйте результат."
      ]
    },
    {
      "metadata": {
        "id": "F-nlN4_aDF9G",
        "colab_type": "code",
        "colab": {}
      },
      "cell_type": "code",
      "source": [
        "from sklearn.manifold import TSNE\n",
        "\n",
        "def get_tsne_projection(word_vectors):\n",
        "    <your code>"
      ],
      "execution_count": 0,
      "outputs": []
    },
    {
      "metadata": {
        "id": "D_YFR_rYDK2n",
        "colab_type": "code",
        "colab": {}
      },
      "cell_type": "code",
      "source": [
        "word_tsne = get_tsne_projection(word_vectors)\n",
        "draw_vectors(word_tsne[:, 0], word_tsne[:, 1], color='green', token=words)"
      ],
      "execution_count": 0,
      "outputs": []
    },
    {
      "metadata": {
        "id": "sz6uHYMbSjuE",
        "colab_type": "text"
      },
      "cell_type": "markdown",
      "source": [
        "## Эмбеддим фразы"
      ]
    },
    {
      "metadata": {
        "id": "L4GEypE4SokX",
        "colab_type": "text"
      },
      "cell_type": "markdown",
      "source": [
        "Сейчас для тестов будет полезно пользоваться фиксированными эмбеддингами. Загрузим уже обученную модель.  \n",
        "(посмотреть, какие вообще модели и корпуса доступны, можно вызовом `api.info()`)"
      ]
    },
    {
      "metadata": {
        "id": "GUDRtumXXF3S",
        "colab_type": "code",
        "colab": {}
      },
      "cell_type": "code",
      "source": [
        "import gensim.downloader as api\n",
        "\n",
        "model = api.load('glove-twitter-100')"
      ],
      "execution_count": 0,
      "outputs": []
    },
    {
      "metadata": {
        "id": "eypMhlOSXFWN",
        "colab_type": "text"
      },
      "cell_type": "markdown",
      "source": [
        "Простой и дешевый способ посчитать эмбеддинг фразы, когда есть эмбеддинги слов - усреднить.\n",
        "\n",
        "Вот этим и займемся: токенизируйте и приведите к нижнему регистру фразу, усредните эмбеддинги тех слов, для которых они подсчитаны.\n",
        "\n",
        "**Задание** Напишите функцию для подсчета эмбеддинга фразы."
      ]
    },
    {
      "metadata": {
        "id": "F76HGRGDEPVq",
        "colab_type": "code",
        "colab": {}
      },
      "cell_type": "code",
      "source": [
        "def get_phrase_embedding(model, phrase):    \n",
        "    vector = np.zeros([model.vector_size], dtype='float32')\n",
        "    \n",
        "    <write me>\n",
        "    \n",
        "    return vector"
      ],
      "execution_count": 0,
      "outputs": []
    },
    {
      "metadata": {
        "id": "i12XsqnIXfko",
        "colab_type": "code",
        "colab": {}
      },
      "cell_type": "code",
      "source": [
        "vector = get_phrase_embedding(model, \"I'm very sure. This never happened to me before...\")\n",
        "\n",
        "assert np.allclose(vector[::10],\n",
        "                   np.array([ 0.30757686, -0.05861897,  0.143751  , -0.11104885, -0.96929336,\n",
        "                             -0.21928601,  0.21652265,  0.14978765,  1.4842536 ,  0.017826  ],\n",
        "                              dtype=np.float32))"
      ],
      "execution_count": 0,
      "outputs": []
    },
    {
      "metadata": {
        "id": "Yl2nBZG0WAUx",
        "colab_type": "text"
      },
      "cell_type": "markdown",
      "source": [
        "Подсчитаем вектора всех фраз."
      ]
    },
    {
      "metadata": {
        "id": "40LezFEJFwv3",
        "colab_type": "code",
        "colab": {}
      },
      "cell_type": "code",
      "source": [
        "text_vectors = np.array([get_phrase_embedding(model, phrase) for phrase in tokenized_texts])"
      ],
      "execution_count": 0,
      "outputs": []
    },
    {
      "metadata": {
        "id": "nBj8XMZvWFTv",
        "colab_type": "text"
      },
      "cell_type": "markdown",
      "source": [
        "И научимся искать ближайшие!\n",
        "\n",
        "**Задание** По строке найти k ближайших к ней вопросов."
      ]
    },
    {
      "metadata": {
        "id": "fjw7kTQ-FP11",
        "colab_type": "code",
        "colab": {}
      },
      "cell_type": "code",
      "source": [
        "from sklearn.metrics.pairwise import cosine_similarity\n",
        "\n",
        "def find_nearest(model, text_vectors, texts, query, k=10):\n",
        "    <write me, please>"
      ],
      "execution_count": 0,
      "outputs": []
    },
    {
      "metadata": {
        "id": "c2yK0twNGWaQ",
        "colab_type": "code",
        "colab": {}
      },
      "cell_type": "code",
      "source": [
        "results = find_nearest(model, text_vectors, texts, query=\"How do i enter the matrix?\", k=10)\n",
        "\n",
        "print('\\n'.join(results))\n",
        "\n",
        "assert len(results) == 10 and isinstance(results[0], str)\n",
        "assert results[1] == 'How do I get to the dark web?'\n",
        "assert results[4] == 'What can I do to save the world?'"
      ],
      "execution_count": 0,
      "outputs": []
    },
    {
      "metadata": {
        "id": "AutTfxbDGhku",
        "colab_type": "code",
        "colab": {}
      },
      "cell_type": "code",
      "source": [
        "find_nearest(model, text_vectors, texts, query=\"How does Trump?\", k=10)"
      ],
      "execution_count": 0,
      "outputs": []
    },
    {
      "metadata": {
        "id": "47Ff7heKGiGV",
        "colab_type": "code",
        "colab": {}
      },
      "cell_type": "code",
      "source": [
        "find_nearest(model, text_vectors, texts, query=\"Why don't i ask a question myself?\", k=10)"
      ],
      "execution_count": 0,
      "outputs": []
    },
    {
      "metadata": {
        "id": "5BhDEF11ZnTY",
        "colab_type": "text"
      },
      "cell_type": "markdown",
      "source": [
        "## Начинаем классификацию"
      ]
    },
    {
      "metadata": {
        "id": "2D_LEV8cm0z3",
        "colab_type": "text"
      },
      "cell_type": "markdown",
      "source": [
        "### Bag-of-words"
      ]
    },
    {
      "metadata": {
        "id": "jGge73gDid99",
        "colab_type": "text"
      },
      "cell_type": "markdown",
      "source": [
        "**Задание** Соберем для начала токенизированные вопросы."
      ]
    },
    {
      "metadata": {
        "id": "FJTjqdgiih7O",
        "colab_type": "code",
        "colab": {}
      },
      "cell_type": "code",
      "source": [
        "tokenized_question1 = ...\n",
        "tokenized_question2 = ..."
      ],
      "execution_count": 0,
      "outputs": []
    },
    {
      "metadata": {
        "id": "0VBcipE7Ztkc",
        "colab_type": "text"
      },
      "cell_type": "markdown",
      "source": [
        "**Задание** Посчитайте косинусную близость между вопросами.\n",
        "\n",
        "Проще всего реализовать функцию ее вычисления руками:\n",
        "$$\\text{cosine_similarity}(x, y) = \\frac{x^{T} y}{||x||\\cdot ||y||}$$"
      ]
    },
    {
      "metadata": {
        "id": "ItJLR_ENHGtI",
        "colab_type": "code",
        "colab": {}
      },
      "cell_type": "code",
      "source": [
        "<do smth>\n",
        "\n",
        "cosine_similarities = <and calc the result>"
      ],
      "execution_count": 0,
      "outputs": []
    },
    {
      "metadata": {
        "id": "NgCVueJ4Z3DQ",
        "colab_type": "text"
      },
      "cell_type": "markdown",
      "source": [
        "Подберём порог близости, при котором будем считать тексты одинаковыми.\n",
        "\n",
        "**Задание** Реализуйте функцию `accuracy`, вычисляющую точность классификации при заданном пороге."
      ]
    },
    {
      "metadata": {
        "id": "41hRIb-KSA3F",
        "colab_type": "code",
        "colab": {}
      },
      "cell_type": "code",
      "source": [
        "import matplotlib.pyplot as plt\n",
        "%matplotlib inline\n",
        "\n",
        "def accuracy(cosine_similarities, threshold):\n",
        "    return <accuracy>\n",
        "\n",
        "thresholds = np.linspace(0, 1, 100, endpoint=False)\n",
        "plt.plot(thresholds, [accuracy(cosine_similarities, th) for th in thresholds])"
      ],
      "execution_count": 0,
      "outputs": []
    },
    {
      "metadata": {
        "id": "kOxJSE38msmX",
        "colab_type": "text"
      },
      "cell_type": "markdown",
      "source": [
        "И запустим оптимизацию:"
      ]
    },
    {
      "metadata": {
        "id": "R3LVCJwqSgZz",
        "colab_type": "code",
        "colab": {}
      },
      "cell_type": "code",
      "source": [
        "from scipy.optimize import minimize_scalar\n",
        "\n",
        "res = minimize_scalar(lambda x: -accuracy(cosine_similarities, x), bounds=(0.5, 0.99), method='bounded')\n",
        "best_threshold = res.x\n",
        "print('Threshold = {:.5f}, Accuracy = {:.2%}'.format(best_threshold, accuracy(cosine_similarities, best_threshold)))"
      ],
      "execution_count": 0,
      "outputs": []
    },
    {
      "metadata": {
        "id": "H8yFlaffm34A",
        "colab_type": "text"
      },
      "cell_type": "markdown",
      "source": [
        "### Tf-idf weights"
      ]
    },
    {
      "metadata": {
        "id": "-cpeSa-4m64H",
        "colab_type": "text"
      },
      "cell_type": "markdown",
      "source": [
        "Вместо того, чтобы тупо усреднять вектора, можно усреднять их с учетом весов - поможет в этом уже знакомые tf-idf.\n",
        "\n",
        "**Задание** Посчитайте взвешенные вектора вопросов. Используйте `TfidfVectorizer`\n",
        "\n",
        "`TfidfVectorizer` возвращает матрицу `(samples_count, words_count)`. А наши эмбеддинги имеют размерность `(words_count, embedding_dim)`. Значит, их можно просто перемножить. Тогда каждая фраза - последовательность слов $w_1, \\ldots, w_k$ - преобразуется в вектор $\\sum_i \\text{idf}(w_i) \\cdot \\text{embedding}(w_i)$. Этот вектор, вероятно, стоит нормировать на число слов $k$.\n",
        "\n",
        "**Задание** Кроме tf-idf можно добавить фильтрацию стоп-слов и пунктуации.  \n",
        "Стоп-слова можно взять из `nltk`:\n",
        "```python\n",
        "from nltk.corpus import stopwords\n",
        "stop_words = stopwords.words('english')\n",
        "```"
      ]
    },
    {
      "metadata": {
        "id": "UoYjVExHd_OC",
        "colab_type": "code",
        "colab": {}
      },
      "cell_type": "code",
      "source": [
        "import re\n",
        "from sklearn.feature_extraction.text import TfidfVectorizer\n",
        "from nltk.corpus import stopwords\n",
        "from string import punctuation\n",
        "\n",
        "<calculate tf-idf weighted vectors>"
      ],
      "execution_count": 0,
      "outputs": []
    },
    {
      "metadata": {
        "id": "34Di8jXxoBxg",
        "colab_type": "text"
      },
      "cell_type": "markdown",
      "source": [
        "Посмотрим, что получается после фильтрации и векторизации:"
      ]
    },
    {
      "metadata": {
        "id": "k52NtVJKf1Wl",
        "colab_type": "code",
        "colab": {}
      },
      "cell_type": "code",
      "source": [
        "for col in tfidf_question1[0].tocoo().col:\n",
        "    print(model.index2word[col], end=' ')\n",
        "\n",
        "print('\\n' + ' '.join(tokenized_question1[0]))"
      ],
      "execution_count": 0,
      "outputs": []
    },
    {
      "metadata": {
        "id": "3fMqY5tOoL9r",
        "colab_type": "text"
      },
      "cell_type": "markdown",
      "source": [
        "**Задание** Посчитайте качество с новыми векторами."
      ]
    },
    {
      "metadata": {
        "id": "Chf2qy7uhbPF",
        "colab_type": "code",
        "colab": {}
      },
      "cell_type": "code",
      "source": [
        "cosine_similarities = <calc it somehow>\n",
        "\n",
        "res = minimize_scalar(lambda x: -accuracy(cosine_similarities, x), bounds=(0.8, 0.99), method='bounded')\n",
        "best_threshold = res.x\n",
        "print('Threshold = {:.5f}, Accuracy = {:.2%}'.format(best_threshold, accuracy(cosine_similarities, best_threshold)))"
      ],
      "execution_count": 0,
      "outputs": []
    },
    {
      "metadata": {
        "id": "qXi24B78sbsg",
        "colab_type": "text"
      },
      "cell_type": "markdown",
      "source": [
        "## Посмотрим внутрь обучения словных эмбеддингов"
      ]
    },
    {
      "metadata": {
        "id": "6GSDgSXfswp7",
        "colab_type": "text"
      },
      "cell_type": "markdown",
      "source": [
        "Ключевая идея - слово можно определить по контексту, в котором оно встречается:\n",
        "![contexts](https://image.ibb.co/mnQ2uz/2018_09_17_21_07_08.png)\n",
        "*From [cs224n, Lecture 2](http://web.stanford.edu/class/cs224n/lectures/lecture2.pdf)*\n",
        "\n",
        "Смотреть, как всё учится, будем здесь: [https://ronxin.github.io/wevi/](https://ronxin.github.io/wevi/)."
      ]
    },
    {
      "metadata": {
        "id": "xvqrFUS6vVhh",
        "colab_type": "text"
      },
      "cell_type": "markdown",
      "source": [
        "## Запилим пословный машинный перевод!"
      ]
    },
    {
      "metadata": {
        "id": "1CXcr-ypzGXg",
        "colab_type": "code",
        "colab": {}
      },
      "cell_type": "code",
      "source": [
        "!wget -O ukr_rus.train.txt -qq --no-check-certificate \"https://drive.google.com/uc?export=download&id=1vAK0SWXUqei4zTimMvIhH3ufGPsbnC_O\"\n",
        "!wget -O ukr_rus.test.txt -qq --no-check-certificate \"https://drive.google.com/uc?export=download&id=1W9R2F8OeKHXruo2sicZ6FgBJUTJc8Us_\"\n",
        "!wget -O fairy_tale.txt -qq --no-check-certificate \"https://drive.google.com/uc?export=download&id=1sq8zSroFeg_afw-60OmY8RATdu_T1tej\"\n",
        "\n",
        "# Install the PyDrive wrapper & import libraries.\n",
        "# This only needs to be done once per notebook.\n",
        "!pip install -U -q PyDrive\n",
        "from pydrive.auth import GoogleAuth\n",
        "from pydrive.drive import GoogleDrive\n",
        "from google.colab import auth\n",
        "from oauth2client.client import GoogleCredentials\n",
        "\n",
        "# Authenticate and create the PyDrive client.\n",
        "# This only needs to be done once per notebook.\n",
        "auth.authenticate_user()\n",
        "gauth = GoogleAuth()\n",
        "gauth.credentials = GoogleCredentials.get_application_default()\n",
        "drive = GoogleDrive(gauth)\n",
        "\n",
        "downloaded = drive.CreateFile({'id': '1d7OXuil646jUeDS1JNhP9XWlZogv6rbu'})\n",
        "downloaded.GetContentFile('cc.ru.300.vec.zip')\n",
        "\n",
        "downloaded = drive.CreateFile({'id': '1yAqwqgUHtMSfGS99WLGe5unSCyIXfIxi'})\n",
        "downloaded.GetContentFile('cc.uk.300.vec.zip')\n",
        "\n",
        "!unzip cc.ru.300.vec.zip\n",
        "!unzip cc.uk.300.vec.zip"
      ],
      "execution_count": 0,
      "outputs": []
    },
    {
      "metadata": {
        "id": "7RqUeOXxws8y",
        "colab_type": "text"
      },
      "cell_type": "markdown",
      "source": [
        "Напишем простенькую реализацию модели машинного перевода.\n",
        "\n",
        "Идея основана на статье [Word Translation Without Parallel Data](https://arxiv.org/pdf/1710.04087.pdf). У авторов в репозитории еще много интересного: [https://github.com/facebookresearch/MUSE](https://github.com/facebookresearch/MUSE).\n",
        "\n",
        "А мы будем переводить с украинского на русский.\n",
        "\n",
        "![](https://raw.githubusercontent.com/yandexdataschool/nlp_course/master/resources/blue_cat_blue_whale.png)   \n",
        "*синій кіт* vs. *синій кит*"
      ]
    },
    {
      "metadata": {
        "id": "jjPj9FTRry0U",
        "colab_type": "code",
        "colab": {}
      },
      "cell_type": "code",
      "source": [
        "from gensim.models import KeyedVectors\n",
        "\n",
        "ru_emb = KeyedVectors.load_word2vec_format(\"cc.ru.300.vec\")\n",
        "uk_emb = KeyedVectors.load_word2vec_format(\"cc.uk.300.vec\")"
      ],
      "execution_count": 0,
      "outputs": []
    },
    {
      "metadata": {
        "id": "7rGx4TXWFJ65",
        "colab_type": "text"
      },
      "cell_type": "markdown",
      "source": [
        "Посмотрим на пару серпень-август (являющихся переводом)"
      ]
    },
    {
      "metadata": {
        "id": "FkHer36xyh4n",
        "colab_type": "code",
        "colab": {}
      },
      "cell_type": "code",
      "source": [
        "ru_emb.most_similar([ru_emb[\"август\"]])"
      ],
      "execution_count": 0,
      "outputs": []
    },
    {
      "metadata": {
        "id": "1RSDixWvylEP",
        "colab_type": "code",
        "colab": {}
      },
      "cell_type": "code",
      "source": [
        "uk_emb.most_similar([uk_emb[\"серпень\"]])"
      ],
      "execution_count": 0,
      "outputs": []
    },
    {
      "metadata": {
        "id": "iwmm3YQ1yl1U",
        "colab_type": "code",
        "colab": {}
      },
      "cell_type": "code",
      "source": [
        "ru_emb.most_similar([uk_emb[\"серпень\"]])"
      ],
      "execution_count": 0,
      "outputs": []
    },
    {
      "metadata": {
        "id": "lAsW7oxszE_I",
        "colab_type": "code",
        "colab": {}
      },
      "cell_type": "code",
      "source": [
        "def load_word_pairs(filename):\n",
        "    uk_ru_pairs = []\n",
        "    uk_vectors = []\n",
        "    ru_vectors = []\n",
        "    with open(filename, \"r\", encoding='utf8') as inpf:\n",
        "        for line in inpf:\n",
        "            uk, ru = line.rstrip().split(\"\\t\")\n",
        "            if uk not in uk_emb or ru not in ru_emb:\n",
        "                continue\n",
        "            uk_ru_pairs.append((uk, ru))\n",
        "            uk_vectors.append(uk_emb[uk])\n",
        "            ru_vectors.append(ru_emb[ru])\n",
        "    return uk_ru_pairs, np.array(uk_vectors), np.array(ru_vectors)\n",
        "\n",
        "\n",
        "uk_ru_train, X_train, Y_train = load_word_pairs(\"ukr_rus.train.txt\")\n",
        "uk_ru_test, X_test, Y_test = load_word_pairs(\"ukr_rus.test.txt\")"
      ],
      "execution_count": 0,
      "outputs": []
    },
    {
      "metadata": {
        "id": "9z6ts7DC0XmN",
        "colab_type": "text"
      },
      "cell_type": "markdown",
      "source": [
        "### Учим маппинг из одного пространства эмбеддингов в другое\n",
        "\n",
        "У нас есть пары слов, соответствующих друг другу, и их эмбеддинги. Найдем преобразование из одного пространства в другое, чтобы приблизить известные нам слова:\n",
        "\n",
        "$$W^*= \\arg\\min_W ||WX - Y||_F, \\text{где} ||*||_F - \\text{норма Фробениуса}$$\n",
        "\n",
        "Эта функция очень похожа на линейную регрессию (без биаса).\n",
        "\n",
        "**Задание** Реализуйте её - воспользуйтесь `LinearRegression` из sklearn с `fit_intercept=False`:"
      ]
    },
    {
      "metadata": {
        "id": "fraTOQtu1YWI",
        "colab_type": "code",
        "colab": {}
      },
      "cell_type": "code",
      "source": [
        "mapping = ..."
      ],
      "execution_count": 0,
      "outputs": []
    },
    {
      "metadata": {
        "id": "PrzRk3ja1b_6",
        "colab_type": "text"
      },
      "cell_type": "markdown",
      "source": [
        "Проверим, куда перейдет `серпень`:"
      ]
    },
    {
      "metadata": {
        "id": "Quax6HnF1aON",
        "colab_type": "code",
        "colab": {}
      },
      "cell_type": "code",
      "source": [
        "august = mapping.predict(uk_emb[\"серпень\"].reshape(1, -1))\n",
        "ru_emb.most_similar(august)"
      ],
      "execution_count": 0,
      "outputs": []
    },
    {
      "metadata": {
        "id": "ih1GLNZt1nZX",
        "colab_type": "text"
      },
      "cell_type": "markdown",
      "source": [
        "Должно получиться, что в топе содержатся разные месяцы, но август не первый.\n",
        "\n",
        "Будем мерять percision top-k с k = 1, 5, 10.\n",
        "\n",
        "**Задание** Реализуйте следующую функцию:"
      ]
    },
    {
      "metadata": {
        "id": "JnmrLp9y2gNI",
        "colab_type": "code",
        "colab": {}
      },
      "cell_type": "code",
      "source": [
        "def precision(pairs, mapped_vectors, topn=1):\n",
        "    \"\"\"\n",
        "    :args:\n",
        "        pairs = list of right word pairs [(uk_word_0, ru_word_0), ...]\n",
        "        mapped_vectors = list of embeddings after mapping from source embedding space to destination embedding space\n",
        "        topn = the number of nearest neighbours in destination embedding space to choose from\n",
        "    :returns:\n",
        "        precision_val, float number, total number of words for those we can find right translation at top K.\n",
        "    \"\"\"\n",
        "    assert len(pairs) == len(ru_vectors)\n",
        "    num_matches = 0\n",
        "    for i, (_, ru) in enumerate(pairs):\n",
        "        <write code here>\n",
        "    precision_val = num_matches / len(pairs)\n",
        "    return precision_val"
      ],
      "execution_count": 0,
      "outputs": []
    },
    {
      "metadata": {
        "id": "-1NIvhSH2olG",
        "colab_type": "code",
        "colab": {}
      },
      "cell_type": "code",
      "source": [
        "assert precision([(\"серпень\", \"август\")], august, topn=5) == 0.0\n",
        "assert precision([(\"серпень\", \"август\")], august, topn=9) == 1.0\n",
        "assert precision([(\"серпень\", \"август\")], august, topn=10) == 1.0"
      ],
      "execution_count": 0,
      "outputs": []
    },
    {
      "metadata": {
        "id": "9Ml_w1Tl2r7Y",
        "colab_type": "code",
        "colab": {}
      },
      "cell_type": "code",
      "source": [
        "assert precision(uk_ru_test, X_test) == 0.0\n",
        "assert precision(uk_ru_test, Y_test) == 1.0"
      ],
      "execution_count": 0,
      "outputs": []
    },
    {
      "metadata": {
        "id": "-d9KQHMr2tx8",
        "colab_type": "code",
        "colab": {}
      },
      "cell_type": "code",
      "source": [
        "precision_top1 = precision(uk_ru_test, mapping.predict(X_test), 1)\n",
        "precision_top5 = precision(uk_ru_test, mapping.predict(X_test), 5)\n",
        "\n",
        "assert precision_top1 >= 0.635\n",
        "assert precision_top5 >= 0.813"
      ],
      "execution_count": 0,
      "outputs": []
    },
    {
      "metadata": {
        "id": "JNbDTP502urT",
        "colab_type": "text"
      },
      "cell_type": "markdown",
      "source": [
        "### Улучшаем маппинг\n",
        "\n",
        "Можно показать, что маппинг лучше строить ортогональным:\n",
        "$$W^*= \\arg\\min_W ||WX - Y||_F \\text{, где: } W^TW = I$$\n",
        "\n",
        "Искать его можно через SVD:\n",
        "$$X^TY=U\\Sigma V^T\\text{, singular value decompostion}$$\n",
        "\n",
        "$$W^*=UV^T$$\n",
        "\n",
        "**Задание** Реализуйте эту функцию."
      ]
    },
    {
      "metadata": {
        "id": "9de8XZ_F3v53",
        "colab_type": "code",
        "colab": {}
      },
      "cell_type": "code",
      "source": [
        "def learn_transform(X_train, Y_train):\n",
        "    \"\"\" \n",
        "    :returns: W* : float matrix[emb_dim x emb_dim] as defined in formulae above\n",
        "    \"\"\"\n",
        "    <write code there>"
      ],
      "execution_count": 0,
      "outputs": []
    },
    {
      "metadata": {
        "id": "8WeCadzN382y",
        "colab_type": "code",
        "colab": {}
      },
      "cell_type": "code",
      "source": [
        "W = learn_transform(X_train, Y_train)"
      ],
      "execution_count": 0,
      "outputs": []
    },
    {
      "metadata": {
        "id": "p6qaMb0E3-f9",
        "colab_type": "code",
        "colab": {}
      },
      "cell_type": "code",
      "source": [
        "ru_emb.most_similar([np.matmul(uk_emb[\"серпень\"], W)])"
      ],
      "execution_count": 0,
      "outputs": []
    },
    {
      "metadata": {
        "id": "_Nn58crh4AH0",
        "colab_type": "code",
        "colab": {}
      },
      "cell_type": "code",
      "source": [
        "assert precision(uk_ru_test, np.matmul(X_test, W)) >= 0.653\n",
        "assert precision(uk_ru_test, np.matmul(X_test, W), 5) >= 0.824"
      ],
      "execution_count": 0,
      "outputs": []
    },
    {
      "metadata": {
        "id": "lqgcYk-c4DE5",
        "colab_type": "text"
      },
      "cell_type": "markdown",
      "source": [
        "### Пишем переводчик"
      ]
    },
    {
      "metadata": {
        "id": "hwi70fP6FaAN",
        "colab_type": "text"
      },
      "cell_type": "markdown",
      "source": [
        "Реализуем простой пословный переводчик - для каждого слова будем искать его ближайшего соседа в общем пространстве эмбеддингов. Если слова нет в эмбеддингах - просто копируем его."
      ]
    },
    {
      "metadata": {
        "id": "0etAHUks4JOr",
        "colab_type": "code",
        "colab": {}
      },
      "cell_type": "code",
      "source": [
        "with open(\"fairy_tale.txt\", \"r\") as in f:\n",
        "    uk_sentences = [line.rstrip().lower() for line in in f]"
      ],
      "execution_count": 0,
      "outputs": []
    },
    {
      "metadata": {
        "id": "JK_FJGmn4N7V",
        "colab_type": "code",
        "colab": {}
      },
      "cell_type": "code",
      "source": [
        "def translate(sentence):\n",
        "    \"\"\"\n",
        "    :args:\n",
        "        sentence - sentence in Ukrainian (str)\n",
        "    :returns:\n",
        "        translation - sentence in Russian (str)\n",
        "\n",
        "    * find ukrainian embedding for each word in sentence\n",
        "    * transform ukrainian embedding vector\n",
        "    * find nearest russian word and replace\n",
        "    \"\"\"\n",
        "    <implement it!>"
      ],
      "execution_count": 0,
      "outputs": []
    },
    {
      "metadata": {
        "id": "H47pbFyk4P6D",
        "colab_type": "code",
        "colab": {}
      },
      "cell_type": "code",
      "source": [
        "assert translate(\".\") == \".\"\n",
        "assert translate(\"1 , 3\") == \"1 , 3\"\n",
        "assert translate(\"кіт зловив мишу\") == \"кот поймал мышку\""
      ],
      "execution_count": 0,
      "outputs": []
    },
    {
      "metadata": {
        "id": "PAVWK7mE4RYU",
        "colab_type": "code",
        "colab": {}
      },
      "cell_type": "code",
      "source": [
        "for sentence in uk_sentences:\n",
        "    print(\"src: {}\\ndst: {}\\n\".format(sentence, translate(sentence)))"
      ],
      "execution_count": 0,
      "outputs": []
    },
    {
      "metadata": {
        "id": "pDnIPVLg4Sg7",
        "colab_type": "text"
      },
      "cell_type": "markdown",
      "source": [
        "# Сдача задания\n",
        "\n",
        "[Форма для сдачи](https://goo.gl/forms/GGjrH7axdGJr6yTp2)  \n",
        "[Опрос](https://goo.gl/forms/3QRwLTmLgBzl5VVm2)"
      ]
    },
    {
      "metadata": {
        "id": "_5GrChTeFqIg",
        "colab_type": "text"
      },
      "cell_type": "markdown",
      "source": [
        "# Дополнительные материалы"
      ]
    },
    {
      "metadata": {
        "id": "HwffxpbmFwDh",
        "colab_type": "text"
      },
      "cell_type": "markdown",
      "source": [
        "## Почитать\n",
        "### База:  \n",
        "[On word embeddings - Part 1, Sebastian Ruder](http://ruder.io/word-embeddings-1/)  \n",
        "[Deep Learning, NLP, and Representations, Christopher Olah](http://colah.github.io/posts/2014-07-NLP-RNNs-Representations/)  \n",
        "\n",
        "### Как кластеризовать смыслы многозначных слов:  \n",
        "[Making Sense of Word Embeddings (2016), Pelevina et al](http://anthology.aclweb.org/W16-1620)    \n",
        "\n",
        "### Как оценивать эмбеддинги\n",
        "[Evaluation methods for unsupervised word embeddings (2015), T. Schnabel](http://www.aclweb.org/anthology/D15-1036)  \n",
        "[Intrinsic Evaluation of Word Vectors Fails to Predict Extrinsic Performance (2016), B. Chiu](https://www.aclweb.org/anthology/W/W16/W16-2501.pdf)  \n",
        "[Problems With Evaluation of Word Embeddings Using Word Similarity Tasks (2016), M. Faruqui](https://arxiv.org/pdf/1605.02276.pdf)  \n",
        "[Improving Reliability of Word Similarity Evaluation by Redesigning Annotation Task and Performance Measure (2016), Oded Avraham, Yoav Goldberg](https://arxiv.org/pdf/1611.03641.pdf)  \n",
        "[Evaluating Word Embeddings Using a Representative Suite of Practical Tasks (2016), N. Nayak](https://cs.stanford.edu/~angeli/papers/2016-acl-veceval.pdf)  \n",
        "\n",
        "\n",
        "## Посмотреть\n",
        "[Word Vector Representations: word2vec, Lecture 2, cs224n](https://www.youtube.com/watch?v=ERibwqs9p38)"
      ]
    }
  ]
}